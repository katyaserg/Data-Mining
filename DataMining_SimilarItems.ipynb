{
  "cells": [
    {
      "cell_type": "markdown",
      "metadata": {
        "id": "view-in-github",
        "colab_type": "text"
      },
      "source": [
        "<a href=\"https://colab.research.google.com/github/katyaserg/Data-Mining/blob/main/DataMining_SimilarItems.ipynb\" target=\"_parent\"><img src=\"https://colab.research.google.com/assets/colab-badge.svg\" alt=\"Open In Colab\"/></a>"
      ]
    },
    {
      "cell_type": "markdown",
      "metadata": {
        "id": "MuwcYbiggKU2"
      },
      "source": [
        "**Importing libraries**"
      ]
    },
    {
      "cell_type": "code",
      "execution_count": 67,
      "metadata": {
        "colab": {
          "base_uri": "https://localhost:8080/"
        },
        "id": "2zdpGM-VgNla",
        "outputId": "6dc88d90-bad7-4c19-94ed-b2f2ca162a82"
      },
      "outputs": [
        {
          "output_type": "stream",
          "name": "stdout",
          "text": [
            "Requirement already satisfied: pyspark in /usr/local/lib/python3.10/dist-packages (3.5.3)\n",
            "Requirement already satisfied: py4j==0.10.9.7 in /usr/local/lib/python3.10/dist-packages (from pyspark) (0.10.9.7)\n"
          ]
        }
      ],
      "source": [
        "pip install pyspark"
      ]
    },
    {
      "cell_type": "code",
      "execution_count": null,
      "metadata": {
        "colab": {
          "base_uri": "https://localhost:8080/"
        },
        "id": "1NCEAhxxgSJm",
        "outputId": "19bd4076-6ae3-4162-bcd6-99b11557503e"
      },
      "outputs": [
        {
          "name": "stdout",
          "output_type": "stream",
          "text": [
            "Collecting findspark\n",
            "  Downloading findspark-2.0.1-py2.py3-none-any.whl.metadata (352 bytes)\n",
            "Downloading findspark-2.0.1-py2.py3-none-any.whl (4.4 kB)\n",
            "Installing collected packages: findspark\n",
            "Successfully installed findspark-2.0.1\n"
          ]
        }
      ],
      "source": [
        "pip install findspark"
      ]
    },
    {
      "cell_type": "code",
      "execution_count": null,
      "metadata": {
        "colab": {
          "base_uri": "https://localhost:8080/",
          "height": 216
        },
        "id": "BeYS_zNigUH2",
        "outputId": "7f86e9be-645c-4607-b609-5ffb8d2930b2"
      },
      "outputs": [
        {
          "data": {
            "text/html": [
              "\n",
              "            <div>\n",
              "                <p><b>SparkSession - in-memory</b></p>\n",
              "                \n",
              "        <div>\n",
              "            <p><b>SparkContext</b></p>\n",
              "\n",
              "            <p><a href=\"http://2f262d5b3003:4040\">Spark UI</a></p>\n",
              "\n",
              "            <dl>\n",
              "              <dt>Version</dt>\n",
              "                <dd><code>v3.5.3</code></dd>\n",
              "              <dt>Master</dt>\n",
              "                <dd><code>local[*]</code></dd>\n",
              "              <dt>AppName</dt>\n",
              "                <dd><code>pyspark-shell</code></dd>\n",
              "            </dl>\n",
              "        </div>\n",
              "        \n",
              "            </div>\n",
              "        "
            ],
            "text/plain": [
              "<pyspark.sql.session.SparkSession at 0x7d23f46070a0>"
            ]
          },
          "execution_count": 3,
          "metadata": {},
          "output_type": "execute_result"
        }
      ],
      "source": [
        "import pyspark\n",
        "import findspark\n",
        "from pyspark.sql import SparkSession\n",
        "\n",
        "spark = SparkSession.builder.master(\"local[*]\").getOrCreate()\n",
        "spark"
      ]
    },
    {
      "cell_type": "code",
      "execution_count": null,
      "metadata": {
        "id": "MSACHDMogWav"
      },
      "outputs": [],
      "source": [
        "! pip install -q kaggle"
      ]
    },
    {
      "cell_type": "code",
      "execution_count": null,
      "metadata": {
        "colab": {
          "base_uri": "https://localhost:8080/"
        },
        "id": "h-ucvaKKgcHH",
        "outputId": "dfcd1464-07e1-40a1-abfc-d428ccd39bb3"
      },
      "outputs": [
        {
          "name": "stdout",
          "output_type": "stream",
          "text": [
            "Requirement already satisfied: pyspark in /usr/local/lib/python3.10/dist-packages (3.5.3)\n",
            "Requirement already satisfied: nltk in /usr/local/lib/python3.10/dist-packages (3.9.1)\n",
            "Requirement already satisfied: py4j==0.10.9.7 in /usr/local/lib/python3.10/dist-packages (from pyspark) (0.10.9.7)\n",
            "Requirement already satisfied: click in /usr/local/lib/python3.10/dist-packages (from nltk) (8.1.7)\n",
            "Requirement already satisfied: joblib in /usr/local/lib/python3.10/dist-packages (from nltk) (1.4.2)\n",
            "Requirement already satisfied: regex>=2021.8.3 in /usr/local/lib/python3.10/dist-packages (from nltk) (2024.9.11)\n",
            "Requirement already satisfied: tqdm in /usr/local/lib/python3.10/dist-packages (from nltk) (4.66.6)\n"
          ]
        }
      ],
      "source": [
        "pip install pyspark nltk"
      ]
    },
    {
      "cell_type": "code",
      "execution_count": null,
      "metadata": {
        "colab": {
          "base_uri": "https://localhost:8080/"
        },
        "id": "-C63W9E9gdOh",
        "outputId": "c4dd9a2e-1d75-4925-bf5d-52e52408ede6"
      },
      "outputs": [
        {
          "name": "stderr",
          "output_type": "stream",
          "text": [
            "[nltk_data] Downloading package punkt_tab to /root/nltk_data...\n",
            "[nltk_data]   Unzipping tokenizers/punkt_tab.zip.\n"
          ]
        }
      ],
      "source": [
        "import numpy as np\n",
        "import pandas as pd\n",
        "import re, math\n",
        "import nltk\n",
        "nltk.download('punkt_tab')\n",
        "from pyspark.sql.functions import udf, length, expr, regexp_extract, collect_list\n",
        "from pyspark.sql.types import StructType, StructField, StringType, LongType\n",
        "from pyspark.sql.functions import monotonically_increasing_id, regexp_replace, col, split, size, concat_ws\n",
        "from pyspark.ml.linalg import Vectors, DenseVector, VectorUDT\n",
        "from pyspark.ml.feature import MinHashLSH, HashingTF\n",
        "import random\n",
        "from sympy import nextprime"
      ]
    },
    {
      "cell_type": "markdown",
      "metadata": {
        "id": "dczOEL8PggwQ"
      },
      "source": [
        "**Uploading the dataset**"
      ]
    },
    {
      "cell_type": "code",
      "execution_count": null,
      "metadata": {
        "colab": {
          "base_uri": "https://localhost:8080/"
        },
        "id": "HrTtwLYAgowb",
        "outputId": "761d0c0d-ed1f-4e85-c661-8a59f896d4be"
      },
      "outputs": [
        {
          "name": "stdout",
          "output_type": "stream",
          "text": [
            "Dataset URL: https://www.kaggle.com/datasets/asaniczka/1-3m-linkedin-jobs-and-skills-2024\n",
            "License(s): ODC Attribution License (ODC-By)\n",
            "Downloading 1-3m-linkedin-jobs-and-skills-2024.zip to /content\n",
            "100% 1.88G/1.88G [01:04<00:00, 33.0MB/s]\n",
            "100% 1.88G/1.88G [01:04<00:00, 31.2MB/s]\n"
          ]
        }
      ],
      "source": [
        "!kaggle datasets download -d asaniczka/1-3m-linkedin-jobs-and-skills-2024"
      ]
    },
    {
      "cell_type": "code",
      "execution_count": null,
      "metadata": {
        "id": "HXLB9Z6GgrfM"
      },
      "outputs": [],
      "source": [
        "!unzip -q ./1-3m-linkedin-jobs-and-skills-2024.zip -d ."
      ]
    },
    {
      "cell_type": "code",
      "execution_count": null,
      "metadata": {
        "id": "TftkETDDguPD"
      },
      "outputs": [],
      "source": [
        "sc = spark.sparkContext"
      ]
    },
    {
      "cell_type": "markdown",
      "metadata": {
        "id": "5CY93cNCgv1H"
      },
      "source": [
        "**Data Cleaning**"
      ]
    },
    {
      "cell_type": "code",
      "execution_count": null,
      "metadata": {
        "id": "vOzhtY4sjEyG"
      },
      "outputs": [],
      "source": [
        "df = pd.read_csv('/content/job_summary.csv')"
      ]
    },
    {
      "cell_type": "code",
      "execution_count": null,
      "metadata": {
        "colab": {
          "base_uri": "https://localhost:8080/",
          "height": 606
        },
        "id": "bNDfE8xljI5H",
        "outputId": "94007e41-1957-4b6b-f017-272df5612ee1"
      },
      "outputs": [
        {
          "data": {
            "application/vnd.google.colaboratory.intrinsic+json": {
              "type": "dataframe",
              "variable_name": "df"
            },
            "text/html": [
              "\n",
              "  <div id=\"df-d6287474-4a15-4412-ac31-96f749e30834\" class=\"colab-df-container\">\n",
              "    <div>\n",
              "<style scoped>\n",
              "    .dataframe tbody tr th:only-of-type {\n",
              "        vertical-align: middle;\n",
              "    }\n",
              "\n",
              "    .dataframe tbody tr th {\n",
              "        vertical-align: top;\n",
              "    }\n",
              "\n",
              "    .dataframe thead th {\n",
              "        text-align: right;\n",
              "    }\n",
              "</style>\n",
              "<table border=\"1\" class=\"dataframe\">\n",
              "  <thead>\n",
              "    <tr style=\"text-align: right;\">\n",
              "      <th></th>\n",
              "      <th>job_link</th>\n",
              "      <th>job_summary</th>\n",
              "    </tr>\n",
              "  </thead>\n",
              "  <tbody>\n",
              "    <tr>\n",
              "      <th>0</th>\n",
              "      <td>https://www.linkedin.com/jobs/view/restaurant-...</td>\n",
              "      <td>Rock N Roll Sushi is hiring a Restaurant Manag...</td>\n",
              "    </tr>\n",
              "    <tr>\n",
              "      <th>1</th>\n",
              "      <td>https://www.linkedin.com/jobs/view/med-surg-re...</td>\n",
              "      <td>Schedule\\n: PRN is required minimum 12 hours p...</td>\n",
              "    </tr>\n",
              "    <tr>\n",
              "      <th>2</th>\n",
              "      <td>https://www.linkedin.com/jobs/view/registered-...</td>\n",
              "      <td>Description\\nIntroduction\\nAre you looking for...</td>\n",
              "    </tr>\n",
              "    <tr>\n",
              "      <th>3</th>\n",
              "      <td>https://uk.linkedin.com/jobs/view/commercial-a...</td>\n",
              "      <td>Commercial account executive\\nSheffield\\nFull ...</td>\n",
              "    </tr>\n",
              "    <tr>\n",
              "      <th>4</th>\n",
              "      <td>https://www.linkedin.com/jobs/view/store-manag...</td>\n",
              "      <td>Address:\\nUSA-CT-Newington-44 Fenn Road\\nStore...</td>\n",
              "    </tr>\n",
              "    <tr>\n",
              "      <th>...</th>\n",
              "      <td>...</td>\n",
              "      <td>...</td>\n",
              "    </tr>\n",
              "    <tr>\n",
              "      <th>1297327</th>\n",
              "      <td>https://www.linkedin.com/jobs/view/roofing-sup...</td>\n",
              "      <td>We are currently seeking experienced commercia...</td>\n",
              "    </tr>\n",
              "    <tr>\n",
              "      <th>1297328</th>\n",
              "      <td>https://www.linkedin.com/jobs/view/service-cen...</td>\n",
              "      <td>Overview\\nStable and growing organization\\nCom...</td>\n",
              "    </tr>\n",
              "    <tr>\n",
              "      <th>1297329</th>\n",
              "      <td>https://www.linkedin.com/jobs/view/flight-qual...</td>\n",
              "      <td>Rôle et responsabilités\\nJob Description:\\nFli...</td>\n",
              "    </tr>\n",
              "    <tr>\n",
              "      <th>1297330</th>\n",
              "      <td>https://www.linkedin.com/jobs/view/global-sour...</td>\n",
              "      <td>Job Description\\nAre You Ready to Make It Happ...</td>\n",
              "    </tr>\n",
              "    <tr>\n",
              "      <th>1297331</th>\n",
              "      <td>https://www.linkedin.com/jobs/view/research-as...</td>\n",
              "      <td>Current Employees:\\nIf you are a current Staff...</td>\n",
              "    </tr>\n",
              "  </tbody>\n",
              "</table>\n",
              "<p>1297332 rows × 2 columns</p>\n",
              "</div>\n",
              "    <div class=\"colab-df-buttons\">\n",
              "\n",
              "  <div class=\"colab-df-container\">\n",
              "    <button class=\"colab-df-convert\" onclick=\"convertToInteractive('df-d6287474-4a15-4412-ac31-96f749e30834')\"\n",
              "            title=\"Convert this dataframe to an interactive table.\"\n",
              "            style=\"display:none;\">\n",
              "\n",
              "  <svg xmlns=\"http://www.w3.org/2000/svg\" height=\"24px\" viewBox=\"0 -960 960 960\">\n",
              "    <path d=\"M120-120v-720h720v720H120Zm60-500h600v-160H180v160Zm220 220h160v-160H400v160Zm0 220h160v-160H400v160ZM180-400h160v-160H180v160Zm440 0h160v-160H620v160ZM180-180h160v-160H180v160Zm440 0h160v-160H620v160Z\"/>\n",
              "  </svg>\n",
              "    </button>\n",
              "\n",
              "  <style>\n",
              "    .colab-df-container {\n",
              "      display:flex;\n",
              "      gap: 12px;\n",
              "    }\n",
              "\n",
              "    .colab-df-convert {\n",
              "      background-color: #E8F0FE;\n",
              "      border: none;\n",
              "      border-radius: 50%;\n",
              "      cursor: pointer;\n",
              "      display: none;\n",
              "      fill: #1967D2;\n",
              "      height: 32px;\n",
              "      padding: 0 0 0 0;\n",
              "      width: 32px;\n",
              "    }\n",
              "\n",
              "    .colab-df-convert:hover {\n",
              "      background-color: #E2EBFA;\n",
              "      box-shadow: 0px 1px 2px rgba(60, 64, 67, 0.3), 0px 1px 3px 1px rgba(60, 64, 67, 0.15);\n",
              "      fill: #174EA6;\n",
              "    }\n",
              "\n",
              "    .colab-df-buttons div {\n",
              "      margin-bottom: 4px;\n",
              "    }\n",
              "\n",
              "    [theme=dark] .colab-df-convert {\n",
              "      background-color: #3B4455;\n",
              "      fill: #D2E3FC;\n",
              "    }\n",
              "\n",
              "    [theme=dark] .colab-df-convert:hover {\n",
              "      background-color: #434B5C;\n",
              "      box-shadow: 0px 1px 3px 1px rgba(0, 0, 0, 0.15);\n",
              "      filter: drop-shadow(0px 1px 2px rgba(0, 0, 0, 0.3));\n",
              "      fill: #FFFFFF;\n",
              "    }\n",
              "  </style>\n",
              "\n",
              "    <script>\n",
              "      const buttonEl =\n",
              "        document.querySelector('#df-d6287474-4a15-4412-ac31-96f749e30834 button.colab-df-convert');\n",
              "      buttonEl.style.display =\n",
              "        google.colab.kernel.accessAllowed ? 'block' : 'none';\n",
              "\n",
              "      async function convertToInteractive(key) {\n",
              "        const element = document.querySelector('#df-d6287474-4a15-4412-ac31-96f749e30834');\n",
              "        const dataTable =\n",
              "          await google.colab.kernel.invokeFunction('convertToInteractive',\n",
              "                                                    [key], {});\n",
              "        if (!dataTable) return;\n",
              "\n",
              "        const docLinkHtml = 'Like what you see? Visit the ' +\n",
              "          '<a target=\"_blank\" href=https://colab.research.google.com/notebooks/data_table.ipynb>data table notebook</a>'\n",
              "          + ' to learn more about interactive tables.';\n",
              "        element.innerHTML = '';\n",
              "        dataTable['output_type'] = 'display_data';\n",
              "        await google.colab.output.renderOutput(dataTable, element);\n",
              "        const docLink = document.createElement('div');\n",
              "        docLink.innerHTML = docLinkHtml;\n",
              "        element.appendChild(docLink);\n",
              "      }\n",
              "    </script>\n",
              "  </div>\n",
              "\n",
              "\n",
              "<div id=\"df-ace0ee0a-19d5-4baf-89c6-8959b960b1ed\">\n",
              "  <button class=\"colab-df-quickchart\" onclick=\"quickchart('df-ace0ee0a-19d5-4baf-89c6-8959b960b1ed')\"\n",
              "            title=\"Suggest charts\"\n",
              "            style=\"display:none;\">\n",
              "\n",
              "<svg xmlns=\"http://www.w3.org/2000/svg\" height=\"24px\"viewBox=\"0 0 24 24\"\n",
              "     width=\"24px\">\n",
              "    <g>\n",
              "        <path d=\"M19 3H5c-1.1 0-2 .9-2 2v14c0 1.1.9 2 2 2h14c1.1 0 2-.9 2-2V5c0-1.1-.9-2-2-2zM9 17H7v-7h2v7zm4 0h-2V7h2v10zm4 0h-2v-4h2v4z\"/>\n",
              "    </g>\n",
              "</svg>\n",
              "  </button>\n",
              "\n",
              "<style>\n",
              "  .colab-df-quickchart {\n",
              "      --bg-color: #E8F0FE;\n",
              "      --fill-color: #1967D2;\n",
              "      --hover-bg-color: #E2EBFA;\n",
              "      --hover-fill-color: #174EA6;\n",
              "      --disabled-fill-color: #AAA;\n",
              "      --disabled-bg-color: #DDD;\n",
              "  }\n",
              "\n",
              "  [theme=dark] .colab-df-quickchart {\n",
              "      --bg-color: #3B4455;\n",
              "      --fill-color: #D2E3FC;\n",
              "      --hover-bg-color: #434B5C;\n",
              "      --hover-fill-color: #FFFFFF;\n",
              "      --disabled-bg-color: #3B4455;\n",
              "      --disabled-fill-color: #666;\n",
              "  }\n",
              "\n",
              "  .colab-df-quickchart {\n",
              "    background-color: var(--bg-color);\n",
              "    border: none;\n",
              "    border-radius: 50%;\n",
              "    cursor: pointer;\n",
              "    display: none;\n",
              "    fill: var(--fill-color);\n",
              "    height: 32px;\n",
              "    padding: 0;\n",
              "    width: 32px;\n",
              "  }\n",
              "\n",
              "  .colab-df-quickchart:hover {\n",
              "    background-color: var(--hover-bg-color);\n",
              "    box-shadow: 0 1px 2px rgba(60, 64, 67, 0.3), 0 1px 3px 1px rgba(60, 64, 67, 0.15);\n",
              "    fill: var(--button-hover-fill-color);\n",
              "  }\n",
              "\n",
              "  .colab-df-quickchart-complete:disabled,\n",
              "  .colab-df-quickchart-complete:disabled:hover {\n",
              "    background-color: var(--disabled-bg-color);\n",
              "    fill: var(--disabled-fill-color);\n",
              "    box-shadow: none;\n",
              "  }\n",
              "\n",
              "  .colab-df-spinner {\n",
              "    border: 2px solid var(--fill-color);\n",
              "    border-color: transparent;\n",
              "    border-bottom-color: var(--fill-color);\n",
              "    animation:\n",
              "      spin 1s steps(1) infinite;\n",
              "  }\n",
              "\n",
              "  @keyframes spin {\n",
              "    0% {\n",
              "      border-color: transparent;\n",
              "      border-bottom-color: var(--fill-color);\n",
              "      border-left-color: var(--fill-color);\n",
              "    }\n",
              "    20% {\n",
              "      border-color: transparent;\n",
              "      border-left-color: var(--fill-color);\n",
              "      border-top-color: var(--fill-color);\n",
              "    }\n",
              "    30% {\n",
              "      border-color: transparent;\n",
              "      border-left-color: var(--fill-color);\n",
              "      border-top-color: var(--fill-color);\n",
              "      border-right-color: var(--fill-color);\n",
              "    }\n",
              "    40% {\n",
              "      border-color: transparent;\n",
              "      border-right-color: var(--fill-color);\n",
              "      border-top-color: var(--fill-color);\n",
              "    }\n",
              "    60% {\n",
              "      border-color: transparent;\n",
              "      border-right-color: var(--fill-color);\n",
              "    }\n",
              "    80% {\n",
              "      border-color: transparent;\n",
              "      border-right-color: var(--fill-color);\n",
              "      border-bottom-color: var(--fill-color);\n",
              "    }\n",
              "    90% {\n",
              "      border-color: transparent;\n",
              "      border-bottom-color: var(--fill-color);\n",
              "    }\n",
              "  }\n",
              "</style>\n",
              "\n",
              "  <script>\n",
              "    async function quickchart(key) {\n",
              "      const quickchartButtonEl =\n",
              "        document.querySelector('#' + key + ' button');\n",
              "      quickchartButtonEl.disabled = true;  // To prevent multiple clicks.\n",
              "      quickchartButtonEl.classList.add('colab-df-spinner');\n",
              "      try {\n",
              "        const charts = await google.colab.kernel.invokeFunction(\n",
              "            'suggestCharts', [key], {});\n",
              "      } catch (error) {\n",
              "        console.error('Error during call to suggestCharts:', error);\n",
              "      }\n",
              "      quickchartButtonEl.classList.remove('colab-df-spinner');\n",
              "      quickchartButtonEl.classList.add('colab-df-quickchart-complete');\n",
              "    }\n",
              "    (() => {\n",
              "      let quickchartButtonEl =\n",
              "        document.querySelector('#df-ace0ee0a-19d5-4baf-89c6-8959b960b1ed button');\n",
              "      quickchartButtonEl.style.display =\n",
              "        google.colab.kernel.accessAllowed ? 'block' : 'none';\n",
              "    })();\n",
              "  </script>\n",
              "</div>\n",
              "\n",
              "  <div id=\"id_75767e0d-e9ba-4e0f-b6fd-f8fa972f45ca\">\n",
              "    <style>\n",
              "      .colab-df-generate {\n",
              "        background-color: #E8F0FE;\n",
              "        border: none;\n",
              "        border-radius: 50%;\n",
              "        cursor: pointer;\n",
              "        display: none;\n",
              "        fill: #1967D2;\n",
              "        height: 32px;\n",
              "        padding: 0 0 0 0;\n",
              "        width: 32px;\n",
              "      }\n",
              "\n",
              "      .colab-df-generate:hover {\n",
              "        background-color: #E2EBFA;\n",
              "        box-shadow: 0px 1px 2px rgba(60, 64, 67, 0.3), 0px 1px 3px 1px rgba(60, 64, 67, 0.15);\n",
              "        fill: #174EA6;\n",
              "      }\n",
              "\n",
              "      [theme=dark] .colab-df-generate {\n",
              "        background-color: #3B4455;\n",
              "        fill: #D2E3FC;\n",
              "      }\n",
              "\n",
              "      [theme=dark] .colab-df-generate:hover {\n",
              "        background-color: #434B5C;\n",
              "        box-shadow: 0px 1px 3px 1px rgba(0, 0, 0, 0.15);\n",
              "        filter: drop-shadow(0px 1px 2px rgba(0, 0, 0, 0.3));\n",
              "        fill: #FFFFFF;\n",
              "      }\n",
              "    </style>\n",
              "    <button class=\"colab-df-generate\" onclick=\"generateWithVariable('df')\"\n",
              "            title=\"Generate code using this dataframe.\"\n",
              "            style=\"display:none;\">\n",
              "\n",
              "  <svg xmlns=\"http://www.w3.org/2000/svg\" height=\"24px\"viewBox=\"0 0 24 24\"\n",
              "       width=\"24px\">\n",
              "    <path d=\"M7,19H8.4L18.45,9,17,7.55,7,17.6ZM5,21V16.75L18.45,3.32a2,2,0,0,1,2.83,0l1.4,1.43a1.91,1.91,0,0,1,.58,1.4,1.91,1.91,0,0,1-.58,1.4L9.25,21ZM18.45,9,17,7.55Zm-12,3A5.31,5.31,0,0,0,4.9,8.1,5.31,5.31,0,0,0,1,6.5,5.31,5.31,0,0,0,4.9,4.9,5.31,5.31,0,0,0,6.5,1,5.31,5.31,0,0,0,8.1,4.9,5.31,5.31,0,0,0,12,6.5,5.46,5.46,0,0,0,6.5,12Z\"/>\n",
              "  </svg>\n",
              "    </button>\n",
              "    <script>\n",
              "      (() => {\n",
              "      const buttonEl =\n",
              "        document.querySelector('#id_75767e0d-e9ba-4e0f-b6fd-f8fa972f45ca button.colab-df-generate');\n",
              "      buttonEl.style.display =\n",
              "        google.colab.kernel.accessAllowed ? 'block' : 'none';\n",
              "\n",
              "      buttonEl.onclick = () => {\n",
              "        google.colab.notebook.generateWithVariable('df');\n",
              "      }\n",
              "      })();\n",
              "    </script>\n",
              "  </div>\n",
              "\n",
              "    </div>\n",
              "  </div>\n"
            ],
            "text/plain": [
              "                                                  job_link  \\\n",
              "0        https://www.linkedin.com/jobs/view/restaurant-...   \n",
              "1        https://www.linkedin.com/jobs/view/med-surg-re...   \n",
              "2        https://www.linkedin.com/jobs/view/registered-...   \n",
              "3        https://uk.linkedin.com/jobs/view/commercial-a...   \n",
              "4        https://www.linkedin.com/jobs/view/store-manag...   \n",
              "...                                                    ...   \n",
              "1297327  https://www.linkedin.com/jobs/view/roofing-sup...   \n",
              "1297328  https://www.linkedin.com/jobs/view/service-cen...   \n",
              "1297329  https://www.linkedin.com/jobs/view/flight-qual...   \n",
              "1297330  https://www.linkedin.com/jobs/view/global-sour...   \n",
              "1297331  https://www.linkedin.com/jobs/view/research-as...   \n",
              "\n",
              "                                               job_summary  \n",
              "0        Rock N Roll Sushi is hiring a Restaurant Manag...  \n",
              "1        Schedule\\n: PRN is required minimum 12 hours p...  \n",
              "2        Description\\nIntroduction\\nAre you looking for...  \n",
              "3        Commercial account executive\\nSheffield\\nFull ...  \n",
              "4        Address:\\nUSA-CT-Newington-44 Fenn Road\\nStore...  \n",
              "...                                                    ...  \n",
              "1297327  We are currently seeking experienced commercia...  \n",
              "1297328  Overview\\nStable and growing organization\\nCom...  \n",
              "1297329  Rôle et responsabilités\\nJob Description:\\nFli...  \n",
              "1297330  Job Description\\nAre You Ready to Make It Happ...  \n",
              "1297331  Current Employees:\\nIf you are a current Staff...  \n",
              "\n",
              "[1297332 rows x 2 columns]"
            ]
          },
          "execution_count": 11,
          "metadata": {},
          "output_type": "execute_result"
        }
      ],
      "source": [
        "df"
      ]
    },
    {
      "cell_type": "code",
      "execution_count": null,
      "metadata": {
        "colab": {
          "base_uri": "https://localhost:8080/",
          "height": 256
        },
        "id": "h8i4jYPVjR0V",
        "outputId": "40558949-2e20-475d-872e-2e69133fd5f8"
      },
      "outputs": [
        {
          "data": {
            "application/vnd.google.colaboratory.intrinsic+json": {
              "type": "string"
            },
            "text/plain": [
              "'Description\\nIntroduction\\nAre you looking for a place to deliver excellent care patients deserve? At StoneSprings Hospital Center we support our colleagues in their positions. Join our Team as a(an) Registered Nurse Cath Lab and access programs to assist with every stage of your career.\\nBenefits\\nStoneSprings Hospital Center, offers a total rewards package that supports the health, life, career and retirement of our colleagues. The available plans and programs include:\\nComprehensive medical coverage that covers many common services at no cost or for a low copay. Plans include prescription drug and behavioral health coverage as well as free telemedicine services and free AirMed medical transportation.\\nAdditional options for dental and vision benefits, life and disability coverage, flexible spending accounts, supplemental health protection plans (accident, critical illness, hospital indemnity), auto and home insurance, identity theft protection, legal counseling, long-term care coverage, moving assistance, pet insurance and more.\\nFree counseling services and resources for emotional, physical and financial wellbeing\\n401(k) Plan with a 100% match on 3% to 9% of pay (based on years of service)\\nEmployee Stock Purchase Plan with 10% off HCA Healthcare stock\\nFamily support through fertility and family building benefits with Progyny and adoption assistance.\\nReferral services for child, elder and pet care, home and auto repair, event planning and more\\nConsumer discounts through Abenity and Consumer Discounts\\nRetirement readiness, rollover assistance services and preferred banking partnerships\\nEducation assistance (tuition, student loan, certification support, dependent scholarships)\\nColleague recognition program\\nTime Away From Work Program (paid time off, paid family leave, long- and short-term disability coverage and leaves of absence)\\nEmployee Health Assistance Fund that offers free employee-only coverage to full-time and part-time colleagues based on income.\\nLearn More About Employee Benefits\\nNote: Eligibility for benefits may vary by location.\\nAre you a continuous learner? With more than 94,000 nurses throughout HCA Healthcare, we are one of the largest employers of nurses in the United States. Education is key to excellence! As a majority owner of Galen College of Nursing, which joins Research College of Nursing and Mercy School of Nursing as educational facilities within the HCA Healthcare family, we make it easier and more affordable to gain certifications and job skills. Apply today for our Registered Nurse Cath Lab opening and continue to learn!\\nAs a Registered Nurse (RN) in the Cardiac Catheterization Lab, we see about Cath lab and Intentional Radiology patients. We provide the highest level of care from the onset of symptoms through diagnosis and treatment. Our team provides care for patients providing information, assisting with complications, administering medication, guidance and hands-on care.\\nAs a member of our team your will be responsible for assessing, planning, implementing, evaluating and documenting all aspects of patient care.\\nYou will work closely with all health care providers to facilitate and coordinate efficient, effective, quality health care including patient discharge.\\nOur team interprets patient information and makes decisions about necessary actions.\\nAs a member of our team, you will coordinate a patient’s discharge planning needs with members of the healthcare team.\\nAdvanced Cardiac Life Spt must be obtained within 90 days of employment start date\\nBasic Cardiac Life Support must be obtained within 30 days of employment start date\\nRegistered Nurse\\nRegistered Nurse Diploma\\nStoneSprings Hospital Center\\nhas provided quality healthcare services since 2015. We give patient\\'s access to trained physicians and advanced technology. Our\\n120+ bed hospital\\nis one of the region\\'s leading acute care facilities in Loudoun County. Our medical services includes a full-service 24/7 Emergency Department, orthopedics, advanced heart and vascular care, extensive diagnostic imaging and interventional radiology capabilities, minimally invasive robotic surgery and maternal/child health.\\nAt StoneSprings Hospital Center, our care like family culture extends to our patients, our people and our community. We are committed to each other because when we join together, our patients are cared for in the safest and most compassionate way.\\nHCA Healthcare has been recognized as one of the World’s Most Ethical Companies® by the Ethisphere Institute more than ten times. In recent years, HCA Healthcare spent an estimated $3.7 billion in cost for the delivery of charitable care, uninsured discounts, and other uncompensated expenses.\\n\"Good people beget good people.\"- Dr. Thomas Frist, Sr.\\nHCA Healthcare Co-Founder\\nIf growth and continued learning is important to you, we encourage you to apply for our Registered Nurse Cath Lab opening. Our team will promptly review your application. Highly qualified candidates will be contacted for interviews.\\nUnlock the possibilities apply today!\\nWe are an equal opportunity employer and value diversity at our company. We do not discriminate on the basis of race, religion, color, national origin, gender, sexual orientation, age, marital status, veteran status, or disability status.\\nShow more\\nShow less'"
            ]
          },
          "execution_count": 12,
          "metadata": {},
          "output_type": "execute_result"
        }
      ],
      "source": [
        "df['job_summary'][2]"
      ]
    },
    {
      "cell_type": "code",
      "execution_count": null,
      "metadata": {
        "id": "xGLlkp0ZjfAZ"
      },
      "outputs": [],
      "source": [
        "schema = StructType([\n",
        "    StructField(\"job_link\", StringType(), True),\n",
        "    StructField(\"job_summary\", StringType(), True)\n",
        "])"
      ]
    },
    {
      "cell_type": "code",
      "execution_count": null,
      "metadata": {
        "colab": {
          "base_uri": "https://localhost:8080/"
        },
        "id": "a74OZ-uijo2U",
        "outputId": "b44a0184-b64c-4c17-a292-8d5500319c61"
      },
      "outputs": [
        {
          "name": "stdout",
          "output_type": "stream",
          "text": [
            "+--------------------+--------------------+\n",
            "|            job_link|         job_summary|\n",
            "+--------------------+--------------------+\n",
            "|https://www.linke...|Rock N Roll Sushi...|\n",
            "|https://www.linke...|Schedule\\n: PRN i...|\n",
            "|https://www.linke...|\"Description\\nInt...|\n",
            "|HCA Healthcare Co...|                NULL|\n",
            "|If growth and con...| we encourage you...|\n",
            "|Unlock the possib...|                NULL|\n",
            "|We are an equal o...|            religion|\n",
            "|           Show more|                NULL|\n",
            "|          Show less\"|                NULL|\n",
            "|https://uk.linked...|Commercial accoun...|\n",
            "|https://www.linke...|Address:\\nUSA-CT-...|\n",
            "|https://www.linke...|Description\\nOur\\...|\n",
            "|https://www.linke...|Company Descripti...|\n",
            "|https://uk.linked...|An exciting oppor...|\n",
            "|https://www.linke...|Job Details:\\nJob...|\n",
            "|https://www.linke...|Our\\nRestaurant T...|\n",
            "|https://www.linke...|Our General Manag...|\n",
            "|https://www.linke...|Earning potential...|\n",
            "|https://www.linke...|Dollar General Co...|\n",
            "|https://au.linked...|Restaurant Descri...|\n",
            "+--------------------+--------------------+\n",
            "only showing top 20 rows\n",
            "\n",
            "root\n",
            " |-- job_link: string (nullable = true)\n",
            " |-- job_summary: string (nullable = true)\n",
            "\n"
          ]
        }
      ],
      "source": [
        "spark_df = spark.read.csv(\n",
        "    '/content/job_summary.csv',\n",
        "    header=True,\n",
        "    schema=schema,\n",
        "    sep=',',       # Specify the delimiter\n",
        "    quote='\"',     # Handle quotes properly\n",
        "    escape='\\\\',   # Handle escape characters\n",
        "    multiLine=True # Handle multiline fields\n",
        ")\n",
        "\n",
        "spark_df.show()\n",
        "spark_df.printSchema()"
      ]
    },
    {
      "cell_type": "code",
      "execution_count": null,
      "metadata": {
        "id": "7onEoBsrj0s7"
      },
      "outputs": [],
      "source": [
        "spark_df = spark_df.dropna(subset=['job_summary'])"
      ]
    },
    {
      "cell_type": "code",
      "execution_count": null,
      "metadata": {
        "id": "Xy3mZRWRj567"
      },
      "outputs": [],
      "source": [
        "spark_df = spark_df.withColumn('job_summary', regexp_replace(col('job_summary'), '\\n', ' '))\n"
      ]
    },
    {
      "cell_type": "code",
      "execution_count": null,
      "metadata": {
        "id": "9bqAi8Fuj8fT"
      },
      "outputs": [],
      "source": [
        "spark_df = spark_df.withColumn('job_words', split(col('job_summary'), ' '))"
      ]
    },
    {
      "cell_type": "code",
      "execution_count": null,
      "metadata": {
        "id": "Hq697RSAj_jq"
      },
      "outputs": [],
      "source": [
        "spark_df = spark_df.filter(size(col('job_words')) > 5)"
      ]
    },
    {
      "cell_type": "code",
      "execution_count": null,
      "metadata": {
        "id": "lQb174kzkCnz"
      },
      "outputs": [],
      "source": [
        "spark_df = spark_df.select('job_words').withColumn('doc_id', monotonically_increasing_id())\n"
      ]
    },
    {
      "cell_type": "code",
      "execution_count": null,
      "metadata": {
        "colab": {
          "base_uri": "https://localhost:8080/"
        },
        "id": "iiB1tPBukFsH",
        "outputId": "0a8b6ff4-f726-45f6-a5a8-ca77472f28ac"
      },
      "outputs": [
        {
          "name": "stdout",
          "output_type": "stream",
          "text": [
            "+--------------------+------+\n",
            "|           job_words|doc_id|\n",
            "+--------------------+------+\n",
            "|[Rock, N, Roll, S...|     0|\n",
            "|[Schedule, :, PRN...|     1|\n",
            "|[\"Description, In...|     2|\n",
            "|[, we, encourage,...|     3|\n",
            "|[Commercial, acco...|     4|\n",
            "|[Address:, USA-CT...|     5|\n",
            "|[Description, Our...|     6|\n",
            "|[Company, Descrip...|     7|\n",
            "|[An, exciting, op...|     8|\n",
            "|[Job, Details:, J...|     9|\n",
            "|[Our, Restaurant,...|    10|\n",
            "|[Our, General, Ma...|    11|\n",
            "|[Earning, potenti...|    12|\n",
            "|[Dollar, General,...|    13|\n",
            "|[Restaurant, Desc...|    14|\n",
            "|[Who, We, Are, We...|    15|\n",
            "|[A, Place, Where,...|    16|\n",
            "|[Description, The...|    17|\n",
            "|[\"Overview, Descr...|    18|\n",
            "|[, the, Team, Mem...|    19|\n",
            "+--------------------+------+\n",
            "only showing top 20 rows\n",
            "\n"
          ]
        }
      ],
      "source": [
        "spark_df.show()"
      ]
    },
    {
      "cell_type": "code",
      "execution_count": null,
      "metadata": {
        "id": "t0Kp0RD0kMaD"
      },
      "outputs": [],
      "source": [
        "df_scaled = spark_df.sample(withReplacement=False, fraction=0.00005, seed=42)\n"
      ]
    },
    {
      "cell_type": "code",
      "execution_count": null,
      "metadata": {
        "id": "peNsw33CkOeH"
      },
      "outputs": [],
      "source": [
        "df_scaled = df_scaled.withColumn('job_words', concat_ws(' ', col('job_words')))\n"
      ]
    },
    {
      "cell_type": "markdown",
      "metadata": {
        "id": "LMScZXOUkRCR"
      },
      "source": [
        "**Preprocessing**"
      ]
    },
    {
      "cell_type": "code",
      "execution_count": null,
      "metadata": {
        "colab": {
          "base_uri": "https://localhost:8080/"
        },
        "id": "MT9T6GXekUIk",
        "outputId": "da0cab76-77a8-414c-cb5b-6d1019b23435"
      },
      "outputs": [
        {
          "name": "stderr",
          "output_type": "stream",
          "text": [
            "[nltk_data] Downloading package stopwords to /root/nltk_data...\n",
            "[nltk_data]   Unzipping corpora/stopwords.zip.\n",
            "[nltk_data] Downloading package punkt to /root/nltk_data...\n",
            "[nltk_data]   Unzipping tokenizers/punkt.zip.\n"
          ]
        }
      ],
      "source": [
        "nltk.download('stopwords')\n",
        "nltk.download('punkt')\n",
        "stopwords = set(nltk.corpus.stopwords.words('english'))"
      ]
    },
    {
      "cell_type": "code",
      "execution_count": null,
      "metadata": {
        "id": "qL2RusdYlADQ"
      },
      "outputs": [],
      "source": [
        "def preprocess_text(text):\n",
        "    text = text.lower()\n",
        "    text = re.sub(r'\\s+', ' ', text)  # Removal of extra whitespace\n",
        "    text = re.sub(r'[^\\w\\s]', '', text)  # Removal of punctuation\n",
        "    tokens = nltk.word_tokenize(text)\n",
        "    tokens = [word for word in tokens if word not in stopwords]  # Removal of stopwords\n",
        "    return ' '.join(tokens)"
      ]
    },
    {
      "cell_type": "code",
      "execution_count": null,
      "metadata": {
        "id": "l9qv046glChC"
      },
      "outputs": [],
      "source": [
        "df_udf = udf(preprocess_text, StringType())"
      ]
    },
    {
      "cell_type": "code",
      "execution_count": null,
      "metadata": {
        "id": "ujNHPswhlFCt"
      },
      "outputs": [],
      "source": [
        "rdd = df_scaled.select('doc_id', 'job_words').rdd.map(lambda row: (row['doc_id'], preprocess_text(row['job_words'])))\n"
      ]
    },
    {
      "cell_type": "code",
      "execution_count": null,
      "metadata": {
        "colab": {
          "base_uri": "https://localhost:8080/"
        },
        "id": "4zyVexv7lId4",
        "outputId": "b38be2e8-4d0b-4883-ee87-290ba882cc89"
      },
      "outputs": [
        {
          "name": "stdout",
          "output_type": "stream",
          "text": [
            "+------+--------------------+\n",
            "|    _1|                  _2|\n",
            "+------+--------------------+\n",
            "| 71617|position function...|\n",
            "|106539|weve made lot pro...|\n",
            "|117032|responsibilities ...|\n",
            "|125621|employee may expo...|\n",
            "|129527|atlas nationwide ...|\n",
            "|226369|requisition id 16...|\n",
            "|249104|dont give resilie...|\n",
            "|254225|overview job desc...|\n",
            "|376747|build internal ex...|\n",
            "|381044|fulltime opportun...|\n",
            "|384188|company descripti...|\n",
            "|438781|technical support...|\n",
            "|443170|description pleas...|\n",
            "|444387|company descripti...|\n",
            "|465163|company descripti...|\n",
            "|473922|job description j...|\n",
            "|474810|seasoned recruitm...|\n",
            "|483497|job posting posit...|\n",
            "|491555|job summary excit...|\n",
            "|504687|practice area eri...|\n",
            "+------+--------------------+\n",
            "only showing top 20 rows\n",
            "\n"
          ]
        }
      ],
      "source": [
        "rdd.toDF().show()"
      ]
    },
    {
      "cell_type": "markdown",
      "metadata": {
        "id": "nFYwulq-lK6T"
      },
      "source": [
        "**Shingles**"
      ]
    },
    {
      "cell_type": "code",
      "execution_count": null,
      "metadata": {
        "id": "3xg3NThrlOHf"
      },
      "outputs": [],
      "source": [
        "import binascii"
      ]
    },
    {
      "cell_type": "code",
      "execution_count": null,
      "metadata": {
        "id": "RGMNbsZAlQPI"
      },
      "outputs": [],
      "source": [
        "k = 7"
      ]
    },
    {
      "cell_type": "code",
      "execution_count": null,
      "metadata": {
        "id": "QPZ1gSIhlRhE"
      },
      "outputs": [],
      "source": [
        "shingles_rdd = rdd.flatMap(lambda doc: [(doc[0], doc[1][i:i+k]) for i in range(len(doc[1]) - k + 1)])\n"
      ]
    },
    {
      "cell_type": "code",
      "execution_count": null,
      "metadata": {
        "colab": {
          "base_uri": "https://localhost:8080/"
        },
        "id": "x2TFxy6_lVBv",
        "outputId": "a91c6918-be55-42db-a3fe-da32f30e763c"
      },
      "outputs": [
        {
          "data": {
            "text/plain": [
              "[(71617, 'positio'),\n",
              " (71617, 'osition'),\n",
              " (71617, 'sition '),\n",
              " (71617, 'ition f'),\n",
              " (71617, 'tion fu'),\n",
              " (71617, 'ion fun'),\n",
              " (71617, 'on func')]"
            ]
          },
          "execution_count": 31,
          "metadata": {},
          "output_type": "execute_result"
        }
      ],
      "source": [
        "shingles_rdd.take(7)"
      ]
    },
    {
      "cell_type": "code",
      "execution_count": null,
      "metadata": {
        "id": "jFiH5Q_elW_x"
      },
      "outputs": [],
      "source": [
        "shingles_list = (rdd\n",
        "                 .groupByKey()\n",
        "                 .map(lambda x: (x[0], list(x[1]))))"
      ]
    },
    {
      "cell_type": "code",
      "execution_count": null,
      "metadata": {
        "colab": {
          "base_uri": "https://localhost:8080/"
        },
        "id": "oxjqdgJflZtc",
        "outputId": "761ac2d8-26ad-42cd-f69b-c600a4c76c76"
      },
      "outputs": [
        {
          "name": "stdout",
          "output_type": "stream",
          "text": [
            "+------+--------------------+\n",
            "|    _1|                  _2|\n",
            "+------+--------------------+\n",
            "| 71617|[position functio...|\n",
            "|106539|[weve made lot pr...|\n",
            "|117032|[responsibilities...|\n",
            "|125621|[employee may exp...|\n",
            "|129527|[atlas nationwide...|\n",
            "|226369|[requisition id 1...|\n",
            "|249104|[dont give resili...|\n",
            "|254225|[overview job des...|\n",
            "|376747|[build internal e...|\n",
            "|381044|[fulltime opportu...|\n",
            "|384188|[company descript...|\n",
            "|438781|[technical suppor...|\n",
            "|443170|[description plea...|\n",
            "|444387|[company descript...|\n",
            "|465163|[company descript...|\n",
            "|473922|[job description ...|\n",
            "|474810|[seasoned recruit...|\n",
            "|483497|[job posting posi...|\n",
            "|491555|[job summary exci...|\n",
            "|504687|[practice area er...|\n",
            "+------+--------------------+\n",
            "only showing top 20 rows\n",
            "\n"
          ]
        }
      ],
      "source": [
        "shingles_list.toDF().show()"
      ]
    },
    {
      "cell_type": "markdown",
      "metadata": {
        "id": "dNxSRvnHln1n"
      },
      "source": [
        "Characteristic matrix"
      ]
    },
    {
      "cell_type": "code",
      "execution_count": null,
      "metadata": {
        "id": "Sw8G-odtlpV9"
      },
      "outputs": [],
      "source": [
        "def hash_shingle(shingle):\n",
        "  return binascii.crc32(shingle.encode('utf-8')) & 0xffffffff"
      ]
    },
    {
      "cell_type": "code",
      "execution_count": null,
      "metadata": {
        "id": "P9v7hUrklrRs"
      },
      "outputs": [],
      "source": [
        "hash_rdd = shingles_rdd.mapValues(hash_shingle).distinct()"
      ]
    },
    {
      "cell_type": "code",
      "execution_count": null,
      "metadata": {
        "id": "dnqH7qUFlvsW"
      },
      "outputs": [],
      "source": [
        "hash_rdd.take(7)"
      ]
    },
    {
      "cell_type": "code",
      "execution_count": null,
      "metadata": {
        "id": "riEcboHIl5mk"
      },
      "outputs": [],
      "source": [
        "df = hash_rdd.toDF([\"doc_id\", \"hashed_shingle\"]) \\\n",
        "    .groupBy(\"doc_id\") \\\n",
        "    .agg(collect_list(\"hashed_shingle\").alias(\"hashed_shingles\"))"
      ]
    },
    {
      "cell_type": "code",
      "execution_count": null,
      "metadata": {
        "id": "-T4MuYPml7av"
      },
      "outputs": [],
      "source": [
        "df.show()"
      ]
    },
    {
      "cell_type": "code",
      "execution_count": null,
      "metadata": {
        "id": "5Nar3fRll9vY"
      },
      "outputs": [],
      "source": [
        "def collect_shingles(a, b):\n",
        "    return a + b"
      ]
    },
    {
      "cell_type": "code",
      "execution_count": null,
      "metadata": {
        "id": "4n0un4ekl_Yq"
      },
      "outputs": [],
      "source": [
        "hashed_shingles_rdd = hash_rdd.map(lambda x: (x[0], [x[1]])).reduceByKey(collect_shingles)\n"
      ]
    },
    {
      "cell_type": "code",
      "execution_count": null,
      "metadata": {
        "id": "QZEHjqhImCQq"
      },
      "outputs": [],
      "source": [
        "hashed_shingles_rdd.take(7)"
      ]
    },
    {
      "cell_type": "code",
      "execution_count": null,
      "metadata": {
        "id": "VorGCMjImEWO"
      },
      "outputs": [],
      "source": [
        "hashed_shingles_list = hashed_shingles_rdd.flatMap(lambda x: x[1]).collect()\n"
      ]
    },
    {
      "cell_type": "markdown",
      "metadata": {
        "id": "GaiGx5KpmHCN"
      },
      "source": [
        "**MinHash**"
      ]
    },
    {
      "cell_type": "code",
      "execution_count": null,
      "metadata": {
        "id": "sg6yP6ANmTxD"
      },
      "outputs": [],
      "source": [
        "h_functions = 100\n",
        "b_bands = 8"
      ]
    },
    {
      "cell_type": "code",
      "execution_count": null,
      "metadata": {
        "id": "GloOhKUCmVh5"
      },
      "outputs": [],
      "source": [
        "def multiple(x, a, b, c):\n",
        "    return (a * x + b) % c"
      ]
    },
    {
      "cell_type": "code",
      "execution_count": null,
      "metadata": {
        "id": "H44G2dLTmXWQ"
      },
      "outputs": [],
      "source": [
        "params =[]\n",
        "\n",
        "for _ in range(h_functions):\n",
        "  a = random.randint(1, 10000)\n",
        "  b = random.randint(1, 10000)\n",
        "  max_ab = max(a, b)\n",
        "  c = nextprime(max_ab + 1)\n",
        "  params.append({\"a\": a, \"b\": b, \"c\": c})\n",
        "\n",
        "params[:7]"
      ]
    },
    {
      "cell_type": "code",
      "execution_count": null,
      "metadata": {
        "id": "5pFOrlBYmZj4"
      },
      "outputs": [],
      "source": [
        "def enum_shingles(e, hashed_shingles_list):\n",
        "    doc_id, shingle = e\n",
        "    return [((doc_id), (h), (hashed_shingles_list)) for h in range(h_functions)]\n"
      ]
    },
    {
      "cell_type": "code",
      "execution_count": null,
      "metadata": {
        "id": "mcjoNc4ymcZ-"
      },
      "outputs": [],
      "source": [
        "minhash_matrix = hash_rdd.flatMap(lambda e: enum_shingles(e, hashed_shingles_list))\n"
      ]
    },
    {
      "cell_type": "code",
      "execution_count": null,
      "metadata": {
        "colab": {
          "background_save": true
        },
        "id": "tR4xl1VLmhgo",
        "outputId": "396fabcd-1a7c-46d9-bbeb-15f8a9dda4dc"
      },
      "outputs": [
        {
          "name": "stdout",
          "output_type": "stream",
          "text": [
            "+-----+---+--------------------+\n",
            "|   _1| _2|                  _3|\n",
            "+-----+---+--------------------+\n",
            "|71617|  0|[1244724455, 3052...|\n",
            "|71617|  1|[1244724455, 3052...|\n",
            "|71617|  2|[1244724455, 3052...|\n",
            "|71617|  3|[1244724455, 3052...|\n",
            "|71617|  4|[1244724455, 3052...|\n",
            "|71617|  5|[1244724455, 3052...|\n",
            "|71617|  6|[1244724455, 3052...|\n",
            "|71617|  7|[1244724455, 3052...|\n",
            "|71617|  8|[1244724455, 3052...|\n",
            "|71617|  9|[1244724455, 3052...|\n",
            "|71617| 10|[1244724455, 3052...|\n",
            "|71617| 11|[1244724455, 3052...|\n",
            "|71617| 12|[1244724455, 3052...|\n",
            "|71617| 13|[1244724455, 3052...|\n",
            "|71617| 14|[1244724455, 3052...|\n",
            "|71617| 15|[1244724455, 3052...|\n",
            "|71617| 16|[1244724455, 3052...|\n",
            "|71617| 17|[1244724455, 3052...|\n",
            "|71617| 18|[1244724455, 3052...|\n",
            "|71617| 19|[1244724455, 3052...|\n",
            "+-----+---+--------------------+\n",
            "only showing top 20 rows\n",
            "\n"
          ]
        }
      ],
      "source": [
        "minhash_matrix.toDF().show()"
      ]
    },
    {
      "cell_type": "code",
      "execution_count": null,
      "metadata": {
        "colab": {
          "background_save": true
        },
        "id": "UxZxnbNKmlVY"
      },
      "outputs": [],
      "source": [
        "def minhash_map(docId_hashedShingles):\n",
        "    doc_id, hashed_shingles = docId_hashedShingles\n",
        "    minhashes = []\n",
        "    for h in range(h_functions):\n",
        "        min_h = math.inf\n",
        "        for shingle in hashed_shingles:\n",
        "            hash_value = multiple(shingle, **params[h])\n",
        "            if hash_value < min_h:\n",
        "                min_h = hash_value\n",
        "        minhashes.append(min_h)\n",
        "    return (doc_id, minhashes)"
      ]
    },
    {
      "cell_type": "code",
      "execution_count": null,
      "metadata": {
        "colab": {
          "background_save": true
        },
        "id": "4-un1DgzmtUC"
      },
      "outputs": [],
      "source": [
        "sig_matrix_rdd = hashed_shingles_rdd.map(minhash_map)"
      ]
    },
    {
      "cell_type": "code",
      "execution_count": null,
      "metadata": {
        "colab": {
          "background_save": true
        },
        "id": "Qq3sL5fKmxqY"
      },
      "outputs": [],
      "source": [
        "signature_df = sig_matrix_rdd.toDF([\"doc_id\", \"minhashes\"])"
      ]
    },
    {
      "cell_type": "code",
      "execution_count": null,
      "metadata": {
        "colab": {
          "background_save": true
        },
        "id": "uPJqA66TmzKd",
        "outputId": "1379869e-8b5a-48f7-9a1f-4450dcb6a8b3"
      },
      "outputs": [
        {
          "name": "stdout",
          "output_type": "stream",
          "text": [
            "+------+--------------------+\n",
            "|doc_id|           minhashes|\n",
            "+------+--------------------+\n",
            "| 71617|[5, 10, 12, 15, 3...|\n",
            "|106539|[1, 4, 3, 0, 3, 2...|\n",
            "|117032|[2, 4, 1, 6, 4, 1...|\n",
            "|125621|[221, 325, 68, 49...|\n",
            "|129527|[2, 1, 5, 1, 1, 4...|\n",
            "|226369|[1, 4, 7, 3, 0, 2...|\n",
            "|249104|[136, 75, 314, 34...|\n",
            "|254225|[1, 0, 4, 4, 2, 1...|\n",
            "|376747|[3, 105, 80, 151,...|\n",
            "|381044|[3, 4, 5, 0, 3, 0...|\n",
            "|384188|[2, 0, 10, 2, 3, ...|\n",
            "|438781|[7, 1, 2, 12, 3, ...|\n",
            "|443170|[1, 4, 4, 3, 2, 0...|\n",
            "|444387|[2, 4, 5, 5, 4, 0...|\n",
            "|465163|[0, 0, 6, 0, 3, 0...|\n",
            "|473922|[1, 1, 1, 0, 0, 1...|\n",
            "|474810|[3, 4, 5, 4, 0, 4...|\n",
            "|483497|[1, 1, 5, 0, 4, 2...|\n",
            "|491555|[2, 4, 7, 14, 3, ...|\n",
            "|504687|[19, 4, 7, 16, 4,...|\n",
            "+------+--------------------+\n",
            "only showing top 20 rows\n",
            "\n"
          ]
        }
      ],
      "source": [
        "signature_df.show()"
      ]
    },
    {
      "cell_type": "markdown",
      "metadata": {
        "id": "iARzRIu8m1f8"
      },
      "source": [
        "**Locality-Sensitive Hashing**"
      ]
    },
    {
      "cell_type": "markdown",
      "metadata": {
        "id": "24FifFY2m3zw"
      },
      "source": [
        "Setting the threshold"
      ]
    },
    {
      "cell_type": "code",
      "execution_count": null,
      "metadata": {
        "colab": {
          "background_save": true
        },
        "id": "lsUKa5mVnABZ"
      },
      "outputs": [],
      "source": [
        "n_per_bands = h_functions // b_bands\n",
        "threshold = (1/b_bands) ** (1/n_per_bands)"
      ]
    },
    {
      "cell_type": "code",
      "execution_count": null,
      "metadata": {
        "colab": {
          "background_save": true
        },
        "id": "NR9ZguDWnf-n",
        "outputId": "a8da5df3-441c-4740-a3a8-fb687aad05cc"
      },
      "outputs": [
        {
          "name": "stdout",
          "output_type": "stream",
          "text": [
            "Threshold for candidate pairs:  0.8408964152537145\n"
          ]
        }
      ],
      "source": [
        "print(\"Threshold for candidate pairs: \", threshold) #Using a universal approach to set the treshold"
      ]
    },
    {
      "cell_type": "code",
      "execution_count": null,
      "metadata": {
        "colab": {
          "background_save": true
        },
        "id": "94P6grkLFXeR"
      },
      "outputs": [],
      "source": [
        "threshold = 0.6 #Changing the treshold manually in order to get more relevant results"
      ]
    },
    {
      "cell_type": "markdown",
      "metadata": {
        "id": "YpvFjNbPnjej"
      },
      "source": [
        "Using the MinHashLSH by Pyspark"
      ]
    },
    {
      "cell_type": "code",
      "execution_count": null,
      "metadata": {
        "colab": {
          "background_save": true
        },
        "id": "ozNA3jBBnlsj"
      },
      "outputs": [],
      "source": [
        "array_to_vector_udf = udf(lambda x: DenseVector(x), VectorUDT())\n",
        "signature_df = signature_df.withColumn(\"minhash_vector\", array_to_vector_udf(col(\"minhashes\"))) # converted with dense vector\n"
      ]
    },
    {
      "cell_type": "code",
      "execution_count": null,
      "metadata": {
        "colab": {
          "background_save": true
        },
        "id": "pCTfDbysnsqn"
      },
      "outputs": [],
      "source": [
        "signature_df = signature_df.drop(\"minhashes\")"
      ]
    },
    {
      "cell_type": "code",
      "execution_count": null,
      "metadata": {
        "colab": {
          "background_save": true
        },
        "id": "9_0EJULBnwBG"
      },
      "outputs": [],
      "source": [
        "mh = MinHashLSH(inputCol=\"minhash_vector\", outputCol=\"hashes\", numHashTables=b_bands*n_per_bands, seed=56)\n"
      ]
    },
    {
      "cell_type": "code",
      "execution_count": null,
      "metadata": {
        "colab": {
          "background_save": true
        },
        "id": "x4jswHOtnyUC"
      },
      "outputs": [],
      "source": [
        "model = mh.fit(signature_df)"
      ]
    },
    {
      "cell_type": "code",
      "execution_count": null,
      "metadata": {
        "colab": {
          "background_save": true
        },
        "id": "FtL-XtMYn0G8"
      },
      "outputs": [],
      "source": [
        "lsh_df = model.transform(signature_df)"
      ]
    },
    {
      "cell_type": "markdown",
      "metadata": {
        "id": "R3zbQEdzn3fx"
      },
      "source": [
        "**Finding similar vacancies**"
      ]
    },
    {
      "cell_type": "code",
      "execution_count": null,
      "metadata": {
        "colab": {
          "background_save": true
        },
        "id": "6Me3oVJDn6mS"
      },
      "outputs": [],
      "source": [
        "def find_similar_jobs(lsh_df, model, threshold):\n",
        "    # Performing self-join to find all pairs\n",
        "    similar_items = model.approxSimilarityJoin(lsh_df, lsh_df, threshold, distCol=\"JaccardDistance\")\n",
        "\n",
        "    # Filtering out pairs with the same doc_id and JaccardDistance lower the threshold\n",
        "    similar_pairs = (similar_items\n",
        "                     .select(\n",
        "                         col(\"datasetA.doc_id\").alias(\"doc_id_A\"),\n",
        "                         col(\"datasetB.doc_id\").alias(\"doc_id_B\"),\n",
        "                         col(\"JaccardDistance\"))\n",
        "                     .filter(col(\"doc_id_A\") < col(\"doc_id_B\"))\n",
        "                     .filter(col(\"JaccardDistance\") <= threshold)\n",
        "                     .rdd\n",
        "                     .map(lambda row: (row[\"doc_id_A\"], row[\"doc_id_B\"], row[\"JaccardDistance\"]))\n",
        "                     .collect())\n",
        "\n",
        "    return similar_pairs"
      ]
    },
    {
      "cell_type": "code",
      "execution_count": null,
      "metadata": {
        "colab": {
          "background_save": true
        },
        "id": "59Z6q6iJn_tX"
      },
      "outputs": [],
      "source": [
        "similar_pairs = find_similar_jobs(lsh_df, model, threshold)"
      ]
    },
    {
      "cell_type": "code",
      "execution_count": null,
      "metadata": {
        "colab": {
          "background_save": true
        },
        "id": "M2CvKcBIoCAc",
        "outputId": "779474a2-f413-42b0-99ac-9c4357034420"
      },
      "outputs": [
        {
          "data": {
            "text/plain": [
              "[(249104, 832967, 0.010000000000000009),\n",
              " (465163, 1499220, 0.5),\n",
              " (619564, 964835, 0.29000000000000004),\n",
              " (619564, 1367282, 0.24),\n",
              " (832967, 1445985, 0.3737373737373737),\n",
              " (1057604, 1513641, 0.28865979381443296),\n",
              " (1452354, 1691604, 0.4545454545454546),\n",
              " (611352, 906430, 0.3950617283950617),\n",
              " (706750, 906430, 0.43529411764705883),\n",
              " (106539, 473922, 0.4736842105263158),\n",
              " (384188, 883786, 0.43333333333333335),\n",
              " (483497, 491555, 0.4382022471910112),\n",
              " (491555, 1215669, 0.25),\n",
              " (721965, 947030, 0.16000000000000003),\n",
              " (806204, 1505655, 0.18999999999999995),\n",
              " (947030, 1178559, 0.37),\n",
              " (964835, 1505655, 0.3191489361702128),\n",
              " (1222814, 1370809, 0.5612244897959184),\n",
              " (483497, 508737, 0.5060240963855422),\n",
              " (620863, 1691604, 0.5714285714285714),\n",
              " (804301, 1057604, 0.5111111111111111),\n",
              " (905711, 1109007, 0.4591836734693877),\n",
              " (576867, 1361632, 0.5384615384615384),\n",
              " (226369, 1109007, 0.505050505050505),\n",
              " (381044, 964835, 0.3085106382978723),\n",
              " (990545, 1452354, 0.5595238095238095),\n",
              " (473922, 906430, 0.47560975609756095),\n",
              " (637191, 906430, 0.4418604651162791),\n",
              " (71617, 721965, 0.21649484536082475),\n",
              " (473922, 619564, 0.4329896907216495),\n",
              " (677180, 788632, 0.3928571428571429),\n",
              " (721965, 752561, 0.15000000000000002),\n",
              " (721965, 806204, 0.15000000000000002),\n",
              " (755285, 1215669, 0.47),\n",
              " (770639, 1213228, 0.22999999999999998),\n",
              " (893684, 1513641, 0.35789473684210527),\n",
              " (720899, 1452354, 0.4631578947368421),\n",
              " (125621, 473922, 0.43000000000000005),\n",
              " (443170, 905711, 0.5465116279069768),\n",
              " (465163, 508737, 0.52),\n",
              " (504687, 1179133, 0.43956043956043955),\n",
              " (804301, 1179133, 0.5584415584415585),\n",
              " (1179133, 1616409, 0.5256410256410257),\n",
              " (1307778, 1452354, 0.48863636363636365),\n",
              " (619564, 1215669, 0.06000000000000005),\n",
              " (770639, 896975, 0.0),\n",
              " (806204, 1499220, 0.28),\n",
              " (883786, 1605572, 0.19191919191919193),\n",
              " (1109007, 1222814, 0.050000000000000044),\n",
              " (473922, 611352, 0.5061728395061729),\n",
              " (524299, 654754, 0.4130434782608695),\n",
              " (720899, 1110359, 0.34408602150537637),\n",
              " (755285, 804301, 0.5810810810810811),\n",
              " (706750, 770639, 0.33999999999999997),\n",
              " (71617, 508737, 0.3913043478260869),\n",
              " (376747, 804301, 0.48),\n",
              " (576867, 806204, 0.18999999999999995),\n",
              " (576867, 964835, 0.3711340206185567),\n",
              " (611352, 947030, 0.38),\n",
              " (637191, 1215669, 0.32999999999999996),\n",
              " (973215, 1178559, 0.4130434782608695),\n",
              " (1481251, 1668802, 0.32999999999999996),\n",
              " (71617, 973215, 0.24742268041237114),\n",
              " (770639, 1270477, 0.26),\n",
              " (896975, 1179133, 0.41000000000000003),\n",
              " (901859, 1179133, 0.39534883720930236),\n",
              " (1120201, 1215669, 0.06000000000000005),\n",
              " (254225, 1194679, 0.5441176470588236),\n",
              " (706750, 1084112, 0.3707865168539326),\n",
              " (706750, 1110359, 0.4725274725274725),\n",
              " (755285, 1616409, 0.527027027027027),\n",
              " (893684, 1214720, 0.4606741573033708),\n",
              " (1214720, 1481251, 0.4651162790697675),\n",
              " (1273727, 1579545, 0.41975308641975306),\n",
              " (106539, 619564, 0.4),\n",
              " (117032, 654754, 0.4408602150537635),\n",
              " (376747, 706750, 0.33999999999999997),\n",
              " (438781, 1370809, 0.5494505494505495),\n",
              " (788632, 1273727, 0.4044943820224719),\n",
              " (1440865, 1481251, 0.33333333333333337),\n",
              " (249104, 1481251, 0.32999999999999996),\n",
              " (465163, 504687, 0.5434782608695652),\n",
              " (473922, 1499220, 0.4883720930232558),\n",
              " (1034773, 1691604, 0.4651162790697675),\n",
              " (1084112, 1591758, 0.34090909090909094),\n",
              " (1110359, 1691604, 0.4347826086956522),\n",
              " (71617, 964835, 0.3163265306122449),\n",
              " (125621, 1591758, 0.3232323232323232),\n",
              " (465163, 1668802, 0.49),\n",
              " (770639, 1120201, 0.06000000000000005),\n",
              " (1120201, 1513641, 0.18367346938775508),\n",
              " (129527, 384188, 0.44594594594594594),\n",
              " (129527, 1614871, 0.4794520547945206),\n",
              " (384188, 720899, 0.43333333333333335),\n",
              " (733230, 1488599, 0.35106382978723405),\n",
              " (905711, 1214720, 0.5432098765432098),\n",
              " (249104, 1213228, 0.22999999999999998),\n",
              " (473922, 896975, 0.42000000000000004),\n",
              " (619564, 755285, 0.46875),\n",
              " (733230, 896975, 0.25),\n",
              " (752561, 1213228, 0.22999999999999998),\n",
              " (906430, 964835, 0.3820224719101124),\n",
              " (106539, 125621, 0.43000000000000005),\n",
              " (474810, 504687, 0.21649484536082475),\n",
              " (1120201, 1648957, 0.28865979381443296),\n",
              " (443170, 1499220, 0.3820224719101124),\n",
              " (654754, 1591758, 0.4883720930232558),\n",
              " (677180, 1194679, 0.5394736842105263),\n",
              " (893684, 990545, 0.5116279069767442),\n",
              " (1057604, 1194679, 0.5568181818181819),\n",
              " (226369, 620863, 0.5652173913043479),\n",
              " (637191, 1179133, 0.42500000000000004),\n",
              " (254225, 1591758, 0.4487179487179487),\n",
              " (125621, 1222814, 0.040000000000000036),\n",
              " (381044, 1499220, 0.34408602150537637),\n",
              " (964835, 1668802, 0.22999999999999998),\n",
              " (906430, 1616409, 0.5180722891566265),\n",
              " (1110359, 1572681, 0.3516483516483516),\n",
              " (1307778, 1614871, 0.5411764705882354),\n",
              " (381044, 1110359, 0.33333333333333337),\n",
              " (384188, 964835, 0.388235294117647),\n",
              " (677180, 1109007, 0.326530612244898),\n",
              " (788632, 1614871, 0.45679012345679015),\n",
              " (71617, 611352, 0.3586956521739131),\n",
              " (106539, 973215, 0.4782608695652174),\n",
              " (249104, 637191, 0.32999999999999996),\n",
              " (438781, 443170, 0.33333333333333337),\n",
              " (438781, 620863, 0.5108695652173914),\n",
              " (465163, 1214720, 0.55),\n",
              " (504687, 1345101, 0.17000000000000004),\n",
              " (443170, 1591758, 0.4022988505747126),\n",
              " (508737, 1307778, 0.45783132530120485),\n",
              " (896975, 1194679, 0.55),\n",
              " (117032, 1499220, 0.34408602150537637),\n",
              " (465163, 883786, 0.4651162790697675),\n",
              " (901859, 1222814, 0.24),\n",
              " (815375, 1572681, 0.4642857142857143),\n",
              " (1084112, 1194679, 0.5238095238095238),\n",
              " (473922, 832967, 0.43000000000000005),\n",
              " (654754, 1222814, 0.38383838383838387),\n",
              " (677180, 1178559, 0.5057471264367817),\n",
              " (1521637, 1614871, 0.49397590361445787),\n",
              " (249104, 1084112, 0.20999999999999996),\n",
              " (465163, 1084112, 0.5393258426966292),\n",
              " (473922, 1270477, 0.4285714285714286),\n",
              " (474810, 620863, 0.5212765957446808),\n",
              " (677180, 1120201, 0.33333333333333337),\n",
              " (444387, 1194679, 0.5714285714285714),\n",
              " (376747, 832967, 0.010000000000000009),\n",
              " (465163, 964835, 0.45783132530120485),\n",
              " (788632, 1120201, 0.31958762886597936),\n",
              " (1120201, 1345101, 0.06000000000000005),\n",
              " (1440865, 1591758, 0.35),\n",
              " (473922, 893684, 0.4883720930232558),\n",
              " (106539, 788632, 0.4512195121951219),\n",
              " (376747, 491555, 0.25),\n",
              " (853215, 896975, 0.32999999999999996),\n",
              " (893684, 964835, 0.3258426966292135),\n",
              " (997310, 1521637, 0.5616438356164384),\n",
              " (620863, 654754, 0.5454545454545454),\n",
              " (896975, 1084112, 0.20999999999999996),\n",
              " (1215669, 1648957, 0.28),\n",
              " (1034773, 1345101, 0.39),\n",
              " (733230, 1179133, 0.4772727272727273),\n",
              " (444387, 1034773, 0.5),\n",
              " (125621, 381044, 0.18999999999999995),\n",
              " (376747, 901859, 0.20999999999999996),\n",
              " (465163, 474810, 0.46739130434782605),\n",
              " (788632, 1521637, 0.4137931034482759),\n",
              " (1057604, 1222814, 0.20999999999999996),\n",
              " (1222814, 1270477, 0.2727272727272727),\n",
              " (1361632, 1591758, 0.47435897435897434),\n",
              " (438781, 815375, 0.4946236559139785),\n",
              " (438781, 1213228, 0.26315789473684215),\n",
              " (576867, 721965, 0.28865979381443296),\n",
              " (654754, 1307778, 0.49425287356321834),\n",
              " (893684, 1481251, 0.4022988505747126),\n",
              " (1213228, 1488599, 0.34736842105263155),\n",
              " (473922, 1109007, 0.4242424242424242),\n",
              " (853215, 1215669, 0.32999999999999996),\n",
              " (1178559, 1222814, 0.3737373737373737),\n",
              " (444387, 896975, 0.35),\n",
              " (1109007, 1579545, 0.4387755102040817),\n",
              " (788632, 1488599, 0.3978494623655914),\n",
              " (1452354, 1505655, 0.47916666666666663),\n",
              " (117032, 226369, 0.5333333333333333),\n",
              " (226369, 1057604, 0.5),\n",
              " (883786, 1179133, 0.46153846153846156),\n",
              " (1222814, 1691604, 0.303030303030303),\n",
              " (1367282, 1452354, 0.3846153846153846),\n",
              " (129527, 1178559, 0.47435897435897434),\n",
              " (491555, 1110359, 0.4086021505376344),\n",
              " (906430, 1273727, 0.40909090909090906),\n",
              " (106539, 721965, 0.375),\n",
              " (106539, 1668802, 0.42000000000000004),\n",
              " (249104, 483497, 0.36),\n",
              " (438781, 1605572, 0.14),\n",
              " (483497, 706750, 0.4337349397590361),\n",
              " (491555, 883786, 0.35789473684210527),\n",
              " (381044, 1616409, 0.5),\n",
              " (384188, 1057604, 0.4565217391304348),\n",
              " (752561, 905711, 0.47),\n",
              " (905711, 990545, 0.5657894736842105),\n",
              " (1488599, 1605572, 0.21999999999999997),\n",
              " (611352, 990545, 0.5308641975308642),\n",
              " (226369, 384188, 0.4931506849315068),\n",
              " (226369, 947030, 0.51),\n",
              " (706750, 1179133, 0.4177215189873418),\n",
              " (611352, 1361632, 0.5064935064935066),\n",
              " (71617, 1120201, 0.16161616161616166),\n",
              " (752561, 1361632, 0.48),\n",
              " (1499220, 1591758, 0.3647058823529412),\n",
              " (706750, 1481251, 0.48863636363636365),\n",
              " (474810, 1110359, 0.31958762886597936),\n",
              " (720899, 832967, 0.19999999999999996),\n",
              " (721965, 788632, 0.3076923076923077),\n",
              " (752561, 1505655, 0.18999999999999995),\n",
              " (770639, 893684, 0.28),\n",
              " (770639, 1273727, 0.27),\n",
              " (806204, 1178559, 0.36),\n",
              " (990545, 1110359, 0.5172413793103448),\n",
              " (129527, 896975, 0.44999999999999996),\n",
              " (576867, 973215, 0.28421052631578947),\n",
              " (1345101, 1481251, 0.32999999999999996),\n",
              " (1034773, 1214720, 0.4444444444444444),\n",
              " (1034773, 1579545, 0.38888888888888884),\n",
              " (444387, 1505655, 0.39560439560439564),\n",
              " (770639, 1591758, 0.32999999999999996),\n",
              " (947030, 964835, 0.2222222222222222),\n",
              " (964835, 1215669, 0.22999999999999998),\n",
              " (1215669, 1270477, 0.26),\n",
              " (611352, 720899, 0.4347826086956522),\n",
              " (893684, 1194679, 0.5903614457831325),\n",
              " (677180, 1521637, 0.43023255813953487),\n",
              " (883786, 1614871, 0.388235294117647),\n",
              " (906430, 1668802, 0.32999999999999996),\n",
              " (106539, 504687, 0.4157303370786517),\n",
              " (125621, 1481251, 0.3232323232323232),\n",
              " (443170, 1367282, 0.34408602150537637),\n",
              " (474810, 1084112, 0.2210526315789474),\n",
              " (483497, 901859, 0.44565217391304346),\n",
              " (483497, 1270477, 0.3764705882352941),\n",
              " (620863, 804301, 0.5774647887323944),\n",
              " (752561, 1084112, 0.20999999999999996),\n",
              " (752561, 1616409, 0.43999999999999995),\n",
              " (504687, 1034773, 0.41758241758241754),\n",
              " (1034773, 1084112, 0.40909090909090906),\n",
              " (721965, 1034773, 0.4130434782608695),\n",
              " (576867, 1179133, 0.4269662921348315),\n",
              " (465163, 770639, 0.49),\n",
              " (752561, 1270477, 0.26),\n",
              " (883786, 901859, 0.3157894736842105),\n",
              " (896975, 1591758, 0.32999999999999996),\n",
              " (1179133, 1367282, 0.4157303370786517),\n",
              " (438781, 1178559, 0.3655913978494624),\n",
              " (491555, 1273727, 0.3370786516853933),\n",
              " (524299, 1110359, 0.2857142857142857),\n",
              " (637191, 815375, 0.4545454545454546),\n",
              " (804301, 906430, 0.5487804878048781),\n",
              " (1213228, 1481251, 0.4347826086956522),\n",
              " (106539, 964835, 0.4117647058823529),\n",
              " (381044, 706750, 0.4086021505376344),\n",
              " (706750, 1668802, 0.33999999999999997),\n",
              " (1273727, 1505655, 0.34408602150537637),\n",
              " (1034773, 1213228, 0.4666666666666667),\n",
              " (1034773, 1616409, 0.48051948051948057),\n",
              " (249104, 1616409, 0.43999999999999995),\n",
              " (677180, 1367282, 0.37362637362637363),\n",
              " (905711, 1440865, 0.49),\n",
              " (1109007, 1648957, 0.30000000000000004),\n",
              " (473922, 1361632, 0.5333333333333333),\n",
              " (576867, 1034773, 0.38636363636363635),\n",
              " (1194679, 1440865, 0.5408163265306123),\n",
              " (1179133, 1614871, 0.5625),\n",
              " (853215, 1270477, 0.43333333333333335),\n",
              " (71617, 883786, 0.25773195876288657),\n",
              " (117032, 973215, 0.25531914893617025),\n",
              " (129527, 733230, 0.45238095238095233),\n",
              " (438781, 524299, 0.18085106382978722),\n",
              " (106539, 117032, 0.4782608695652174),\n",
              " (117032, 733230, 0.34736842105263155),\n",
              " (384188, 1345101, 0.4),\n",
              " (733230, 770639, 0.25),\n",
              " (1370809, 1505655, 0.5294117647058824),\n",
              " (106539, 901859, 0.5108695652173914),\n",
              " (129527, 376747, 0.44999999999999996),\n",
              " (381044, 443170, 0.34408602150537637),\n",
              " (443170, 1668802, 0.28),\n",
              " (611352, 901859, 0.34883720930232553),\n",
              " (1120201, 1178559, 0.3711340206185567),\n",
              " (376747, 815375, 0.48),\n",
              " (491555, 990545, 0.5113636363636364),\n",
              " (1591758, 1614871, 0.5180722891566265),\n",
              " (474810, 832967, 0.10999999999999999),\n",
              " (619564, 1345101, 0.06000000000000005),\n",
              " (619564, 1452354, 0.3939393939393939),\n",
              " (788632, 1591758, 0.4367816091954023),\n",
              " (883786, 973215, 0.31958762886597936),\n",
              " (896975, 1513641, 0.16000000000000003),\n",
              " (901859, 1440865, 0.22999999999999998),\n",
              " (637191, 1616409, 0.44303797468354433),\n",
              " (815375, 1194679, 0.5942028985507246),\n",
              " (853215, 1214720, 0.48275862068965514),\n",
              " (381044, 1178559, 0.4301075268817204),\n",
              " (129527, 619564, 0.47959183673469385),\n",
              " (444387, 465163, 0.49350649350649356),\n",
              " (815375, 1345101, 0.48),\n",
              " (815375, 1499220, 0.5060240963855422),\n",
              " (1505655, 1591758, 0.3370786516853933),\n",
              " (226369, 1591758, 0.41891891891891897),\n",
              " (117032, 1222814, 0.20999999999999996),\n",
              " (249104, 1521637, 0.31000000000000005),\n",
              " (474810, 619564, 0.14141414141414144),\n",
              " (788632, 973215, 0.3586956521739131),\n",
              " (947030, 1120201, 0.06999999999999995),\n",
              " (1270477, 1513641, 0.33684210526315794),\n",
              " (815375, 1178559, 0.5679012345679013),\n",
              " (654754, 770639, 0.37),\n",
              " (721965, 1445985, 0.40217391304347827),\n",
              " (752561, 1273727, 0.27),\n",
              " (1370809, 1668802, 0.56),\n",
              " (1213228, 1452354, 0.43956043956043955),\n",
              " (125621, 1273727, 0.28),\n",
              " (129527, 832967, 0.4444444444444444),\n",
              " (129527, 1367282, 0.4606741573033708),\n",
              " (443170, 1057604, 0.34408602150537637),\n",
              " (444387, 1616409, 0.48750000000000004),\n",
              " (473922, 901859, 0.47777777777777775),\n",
              " (504687, 1215669, 0.17000000000000004),\n",
              " (576867, 832967, 0.19999999999999996),\n",
              " (1213228, 1691604, 0.4421052631578948),\n",
              " (106539, 1194679, 0.5492957746478873),\n",
              " (1057604, 1110359, 0.43434343434343436),\n",
              " (381044, 465163, 0.5056179775280899),\n",
              " (474810, 1345101, 0.09999999999999998),\n",
              " (619564, 990545, 0.42105263157894735),\n",
              " (770639, 990545, 0.43999999999999995),\n",
              " (901859, 1605572, 0.22999999999999998),\n",
              " (524299, 1648957, 0.368421052631579),\n",
              " (576867, 815375, 0.5222222222222221),\n",
              " (755285, 1481251, 0.5),\n",
              " (1481251, 1648957, 0.4555555555555556),\n",
              " (1572681, 1648957, 0.3804347826086957),\n",
              " (106539, 1614871, 0.5),\n",
              " (483497, 1445985, 0.40506329113924056),\n",
              " (619564, 1370809, 0.5773195876288659),\n",
              " (677180, 893684, 0.3764705882352941),\n",
              " (706750, 1109007, 0.326530612244898),\n",
              " (721965, 770639, 0.15000000000000002),\n",
              " (1273727, 1513641, 0.36458333333333337),\n",
              " (71617, 1481251, 0.33333333333333337),\n",
              " (125621, 443170, 0.2727272727272727),\n",
              " (443170, 1222814, 0.29292929292929293),\n",
              " (508737, 755285, 0.5324675324675325),\n",
              " (770639, 1648957, 0.28),\n",
              " (947030, 1579545, 0.45999999999999996),\n",
              " (815375, 1215669, 0.48),\n",
              " (815375, 1361632, 0.5753424657534247),\n",
              " (853215, 1361632, 0.5308641975308642),\n",
              " (611352, 1034773, 0.5238095238095238),\n",
              " (901859, 1572681, 0.32258064516129037),\n",
              " (71617, 806204, 0.12),\n",
              " (474810, 1499220, 0.276595744680851),\n",
              " (788632, 1499220, 0.43333333333333335),\n",
              " (973215, 1057604, 0.0),\n",
              " (973215, 1499220, 0.32608695652173914),\n",
              " (1361632, 1605572, 0.4693877551020408),\n",
              " (384188, 853215, 0.4512195121951219),\n",
              " (473922, 1273727, 0.3827160493827161),\n",
              " (637191, 720899, 0.37362637362637363),\n",
              " (1214720, 1307778, 0.4534883720930233),\n",
              " (71617, 853215, 0.35106382978723405),\n",
              " (384188, 832967, 0.3939393939393939),\n",
              " (438781, 752561, 0.12),\n",
              " (483497, 1605572, 0.36363636363636365),\n",
              " (125621, 654754, 0.38),\n",
              " (620863, 677180, 0.5802469135802469),\n",
              " (901859, 1178559, 0.3932584269662921),\n",
              " (901859, 1213228, 0.34042553191489366),\n",
              " (1120201, 1214720, 0.3608247422680413),\n",
              " (125621, 491555, 0.26),\n",
              " (853215, 1591758, 0.40476190476190477),\n",
              " (226369, 832967, 0.51),\n",
              " (249104, 806204, 0.0),\n",
              " (381044, 770639, 0.18000000000000005),\n",
              " (883786, 1367282, 0.31958762886597936),\n",
              " (896975, 1057604, 0.18000000000000005),\n",
              " (438781, 720899, 0.2755102040816326),\n",
              " (504687, 905711, 0.5217391304347826),\n",
              " (654754, 720899, 0.4),\n",
              " (893684, 1307778, 0.4269662921348315),\n",
              " (1084112, 1178559, 0.4111111111111111),\n",
              " (1178559, 1572681, 0.3977272727272727),\n",
              " (1572681, 1616409, 0.43529411764705883),\n",
              " (71617, 438781, 0.16666666666666663),\n",
              " (483497, 752561, 0.36),\n",
              " (770639, 1110359, 0.27),\n",
              " (883786, 893684, 0.3548387096774194),\n",
              " (1505655, 1614871, 0.44318181818181823),\n",
              " (1521637, 1572681, 0.37777777777777777),\n",
              " (381044, 444387, 0.3846153846153846),\n",
              " (384188, 1270477, 0.3855421686746988),\n",
              " (611352, 1109007, 0.3571428571428571),\n",
              " (770639, 1084112, 0.20999999999999996),\n",
              " (804301, 1691604, 0.5),\n",
              " (637191, 1361632, 0.5125),\n",
              " (1084112, 1361632, 0.49425287356321834),\n",
              " (226369, 1179133, 0.48611111111111116),\n",
              " (474810, 815375, 0.4893617021276596),\n",
              " (677180, 1179133, 0.47560975609756095),\n",
              " (117032, 1668802, 0.18000000000000005),\n",
              " (381044, 806204, 0.18000000000000005),\n",
              " (1440865, 1445985, 0.38383838383838387),\n",
              " (1452354, 1499220, 0.44318181818181823),\n",
              " (384188, 1648957, 0.4651162790697675),\n",
              " (721965, 1273727, 0.3191489361702128),\n",
              " (853215, 905711, 0.4810126582278481),\n",
              " (654754, 806204, 0.37),\n",
              " (443170, 964835, 0.3626373626373627),\n",
              " (443170, 1178559, 0.41860465116279066),\n",
              " (465163, 637191, 0.5063291139240507),\n",
              " (508737, 1214720, 0.5294117647058824),\n",
              " (524299, 1367282, 0.28125),\n",
              " (576867, 1120201, 0.1578947368421053),\n",
              " (620863, 1273727, 0.5647058823529412),\n",
              " (620863, 1481251, 0.45333333333333337),\n",
              " (706750, 1270477, 0.4269662921348315),\n",
              " (1084112, 1605572, 0.19387755102040816),\n",
              " (815375, 990545, 0.5974025974025974),\n",
              " (1499220, 1505655, 0.3369565217391305),\n",
              " (1034773, 1179133, 0.5882352941176471),\n",
              " (71617, 770639, 0.12),\n",
              " (71617, 1057604, 0.24742268041237114),\n",
              " (465163, 1109007, 0.47959183673469385),\n",
              " (752561, 1345101, 0.0),\n",
              " (752561, 1691604, 0.29000000000000004),\n",
              " (806204, 883786, 0.18999999999999995),\n",
              " (832967, 1345101, 0.010000000000000009),\n",
              " (1109007, 1499220, 0.26530612244897955),\n",
              " (254225, 893684, 0.4444444444444444),\n",
              " (504687, 576867, 0.29166666666666663),\n",
              " (720899, 1572681, 0.28260869565217395),\n",
              " (474810, 906430, 0.32978723404255317),\n",
              " (947030, 1110359, 0.28),\n",
              " (1213228, 1445985, 0.4725274725274725),\n",
              " (106539, 1270477, 0.44705882352941173),\n",
              " (443170, 611352, 0.4482758620689655),\n",
              " (1178559, 1452354, 0.48235294117647054),\n",
              " (125621, 815375, 0.4747474747474747),\n",
              " (619564, 1307778, 0.3298969072164949),\n",
              " (249104, 964835, 0.22999999999999998),\n",
              " (465163, 947030, 0.5),\n",
              " (806204, 1179133, 0.41000000000000003),\n",
              " (896975, 1452354, 0.35),\n",
              " (1361632, 1668802, 0.48),\n",
              " (129527, 853215, 0.5121951219512195),\n",
              " (504687, 804301, 0.4831460674157303),\n",
              " (637191, 755285, 0.5),\n",
              " (893684, 1648957, 0.4),\n",
              " (1110359, 1214720, 0.4137931034482759),\n",
              " (117032, 491555, 0.2934782608695652),\n",
              " (117032, 1572681, 0.3608247422680413),\n",
              " (438781, 483497, 0.34782608695652173),\n",
              " (853215, 1668802, 0.32999999999999996),\n",
              " (444387, 654754, 0.49411764705882355),\n",
              " (576867, 677180, 0.3846153846153846),\n",
              " (1367282, 1648957, 0.34408602150537637),\n",
              " (1370809, 1691604, 0.5802469135802469),\n",
              " (1648957, 1691604, 0.33720930232558144),\n",
              " (125621, 1034773, 0.38383838383838387),\n",
              " (254225, 806204, 0.45999999999999996),\n",
              " (376747, 1367282, 0.18000000000000005),\n",
              " (770639, 1668802, 0.0),\n",
              " (990545, 1445985, 0.5609756097560976),\n",
              " (384188, 1307778, 0.49411764705882355),\n",
              " (637191, 1214720, 0.5333333333333333),\n",
              " (720899, 733230, 0.30434782608695654),\n",
              " (106539, 376747, 0.42000000000000004),\n",
              " (106539, 474810, 0.4086021505376344),\n",
              " (106539, 806204, 0.42000000000000004),\n",
              " (438781, 832967, 0.11111111111111116),\n",
              " (438781, 1109007, 0.14),\n",
              " (483497, 1215669, 0.36),\n",
              " (721965, 832967, 0.16000000000000003),\n",
              " (853215, 1109007, 0.35),\n",
              " (1178559, 1370809, 0.5974025974025974),\n",
              " (125621, 1614871, 0.44999999999999996),\n",
              " (381044, 576867, 0.3535353535353535),\n",
              " (443170, 1481251, 0.4382022471910112),\n",
              " (443170, 1307778, 0.3529411764705882),\n",
              " (853215, 973215, 0.43157894736842106),\n",
              " (964835, 1488599, 0.32978723404255317),\n",
              " (1179133, 1579545, 0.48),\n",
              " (254225, 901859, 0.47126436781609193),\n",
              " (117032, 832967, 0.1717171717171717),\n",
              " (465163, 619564, 0.5204081632653061),\n",
              " (465163, 832967, 0.5),\n",
              " (619564, 1361632, 0.4631578947368421),\n",
              " (806204, 1367282, 0.18000000000000005),\n",
              " (1057604, 1120201, 0.18556701030927836),\n",
              " (1109007, 1521637, 0.32999999999999996),\n",
              " (1222814, 1445985, 0.3939393939393939),\n",
              " (524299, 1084112, 0.276595744680851),\n",
              " (804301, 893684, 0.5411764705882354),\n",
              " (438781, 677180, 0.36170212765957444),\n",
              " (677180, 752561, 0.33999999999999997),\n",
              " (1034773, 1513641, 0.42391304347826086),\n",
              " (125621, 721965, 0.16000000000000003),\n",
              " (125621, 1214720, 0.3434343434343434),\n",
              " (788632, 1084112, 0.3913043478260869),\n",
              " (804301, 806204, 0.48),\n",
              " (1057604, 1273727, 0.368421052631579),\n",
              " (1120201, 1614871, 0.42105263157894735),\n",
              " (524299, 1591758, 0.3695652173913043),\n",
              " (1057604, 1307778, 0.33333333333333337),\n",
              " (226369, 1361632, 0.3548387096774194),\n",
              " (770639, 806204, 0.0),\n",
              " (883786, 1120201, 0.23232323232323238),\n",
              " (947030, 1452354, 0.36),\n",
              " (524299, 1488599, 0.2282608695652174),\n",
              " (853215, 1488599, 0.40217391304347827),\n",
              " (117032, 677180, 0.3913043478260869),\n",
              " (733230, 1505655, 0.34042553191489366),\n",
              " (1213228, 1440865, 0.23232323232323238),\n",
              " (1440865, 1505655, 0.19191919191919193),\n",
              " (125621, 1084112, 0.202020202020202),\n",
              " (129527, 1120201, 0.4148936170212766),\n",
              " (249104, 804301, 0.48),\n",
              " (576867, 1691604, 0.3111111111111111),\n",
              " (384188, 1361632, 0.5066666666666666),\n",
              " (804301, 1499220, 0.5581395348837209),\n",
              " (906430, 990545, 0.5),\n",
              " (721965, 990545, 0.4505494505494505),\n",
              " (906430, 1179133, 0.4444444444444444),\n",
              " (770639, 788632, 0.31000000000000005),\n",
              " (896975, 1361632, 0.48),\n",
              " (438781, 504687, 0.19999999999999996),\n",
              " (1579545, 1614871, 0.5769230769230769),\n",
              " (483497, 755285, 0.5731707317073171),\n",
              " (654754, 832967, 0.36363636363636365),\n",
              " (883786, 1505655, 0.25806451612903225),\n",
              " (71617, 620863, 0.5425531914893618),\n",
              " (384188, 508737, 0.4810126582278481),\n",
              " (443170, 1648957, 0.41758241758241754),\n",
              " (483497, 620863, 0.5875),\n",
              " (1057604, 1213228, 0.3608247422680413),\n",
              " (491555, 1691604, 0.39560439560439564),\n",
              " (1034773, 1499220, 0.4534883720930233),\n",
              " (901859, 1488599, 0.29032258064516125),\n",
              " (71617, 1367282, 0.24742268041237114),\n",
              " (619564, 1445985, 0.40816326530612246),\n",
              " (619564, 1521637, 0.30208333333333337),\n",
              " (788632, 1445985, 0.45882352941176474),\n",
              " (1179133, 1270477, 0.3975903614457831),\n",
              " (1345101, 1440865, 0.020000000000000018),\n",
              " (611352, 1178559, 0.4125),\n",
              " (637191, 1307778, 0.4482758620689655),\n",
              " (654754, 1572681, 0.40909090909090906),\n",
              " (706750, 893684, 0.43181818181818177),\n",
              " (1084112, 1307778, 0.3295454545454546),\n",
              " (491555, 832967, 0.24242424242424243),\n",
              " (619564, 893684, 0.33999999999999997),\n",
              " (444387, 1614871, 0.5421686746987953),\n",
              " (733230, 1591758, 0.43956043956043955),\n",
              " (815375, 896975, 0.48),\n",
              " (947030, 1194679, 0.56),\n",
              " (1572681, 1691604, 0.3913043478260869),\n",
              " (1222814, 1605572, 0.050000000000000044),\n",
              " (376747, 733230, 0.25),\n",
              " (524299, 788632, 0.34782608695652173),\n",
              " (677180, 1110359, 0.5053763440860215),\n",
              " (733230, 788632, 0.36363636363636365),\n",
              " (1178559, 1215669, 0.36),\n",
              " (106539, 444387, 0.5180722891566265),\n",
              " (125621, 384188, 0.41000000000000003),\n",
              " (443170, 883786, 0.3548387096774194),\n",
              " (465163, 706750, 0.5555555555555556),\n",
              " (620863, 901859, 0.5454545454545454),\n",
              " (491555, 1120201, 0.25773195876288657),\n",
              " (733230, 990545, 0.49425287356321834),\n",
              " (806204, 1194679, 0.55),\n",
              " (254225, 883786, 0.4482758620689655),\n",
              " (226369, 1273727, 0.5357142857142857),\n",
              " (249104, 990545, 0.43999999999999995),\n",
              " (806204, 947030, 0.010000000000000009),\n",
              " (806204, 990545, 0.43999999999999995),\n",
              " (806204, 1222814, 0.030000000000000027),\n",
              " (1120201, 1499220, 0.27083333333333337),\n",
              " (1361632, 1445985, 0.5384615384615384),\n",
              " (129527, 254225, 0.5466666666666666),\n",
              " (1178559, 1614871, 0.4810126582278481),\n",
              " (71617, 720899, 0.25773195876288657),\n",
              " (106539, 752561, 0.42000000000000004),\n",
              " (438781, 1513641, 0.26262626262626265),\n",
              " (654754, 1668802, 0.37),\n",
              " (443170, 654754, 0.4482758620689655),\n",
              " (508737, 620863, 0.527027027027027),\n",
              " (883786, 1616409, 0.47777777777777775),\n",
              " (125621, 1488599, 0.19191919191919193),\n",
              " (1222814, 1307778, 0.35),\n",
              " (117032, 620863, 0.49425287356321834),\n",
              " (226369, 752561, 0.5),\n",
              " (376747, 947030, 0.010000000000000009),\n",
              " (901859, 964835, 0.375),\n",
              " (491555, 524299, 0.3191489361702128),\n",
              " (504687, 1178559, 0.43617021276595747),\n",
              " (706750, 1194679, 0.5584415584415585),\n",
              " (733230, 1213228, 0.3655913978494624),\n",
              " (853215, 1273727, 0.40909090909090906),\n",
              " (905711, 1572681, 0.47058823529411764),\n",
              " (438781, 883786, 0.2755102040816326),\n",
              " (483497, 1370809, 0.5789473684210527),\n",
              " (733230, 806204, 0.25),\n",
              " (637191, 883786, 0.37362637362637363),\n",
              " (901859, 1614871, 0.43023255813953487),\n",
              " (1270477, 1614871, 0.45238095238095233),\n",
              " (71617, 815375, 0.4946236559139785),\n",
              " (483497, 1499220, 0.4719101123595506),\n",
              " (804301, 1591758, 0.5125),\n",
              " (117032, 1452354, 0.4193548387096774),\n",
              " (125621, 474810, 0.10999999999999999),\n",
              " (752561, 806204, 0.0),\n",
              " (788632, 896975, 0.31000000000000005),\n",
              " (806204, 973215, 0.18000000000000005),\n",
              " (883786, 990545, 0.4606741573033708),\n",
              " (964835, 1345101, 0.22999999999999998),\n",
              " (1215669, 1440865, 0.020000000000000018),\n",
              " (1345101, 1367282, 0.18000000000000005),\n",
              " (504687, 654754, 0.4130434782608695),\n",
              " (815375, 1307778, 0.5542168674698795),\n",
              " (853215, 997310, 0.5285714285714286),\n",
              " (1178559, 1273727, 0.4252873563218391),\n",
              " (1213228, 1616409, 0.5222222222222221),\n",
              " (117032, 483497, 0.4130434782608695),\n",
              " (654754, 1109007, 0.3737373737373737),\n",
              " (733230, 947030, 0.26),\n",
              " (883786, 1213228, 0.3191489361702128),\n",
              " (990545, 1034773, 0.5),\n",
              " (438781, 1691604, 0.3263157894736842),\n",
              " (611352, 832967, 0.38),\n",
              " (619564, 637191, 0.3737373737373737),\n",
              " (901859, 1452354, 0.3820224719101124),\n",
              " (990545, 1591758, 0.42307692307692313),\n",
              " (1270477, 1345101, 0.26),\n",
              " (654754, 721965, 0.42553191489361697),\n",
              " (706750, 1178559, 0.3950617283950617),\n",
              " (733230, 1084112, 0.36170212765957444),\n",
              " (905711, 1084112, 0.4285714285714286),\n",
              " (1481251, 1614871, 0.5),\n",
              " (1488599, 1616409, 0.4545454545454546),\n",
              " (106539, 1273727, 0.44047619047619047),\n",
              " (706750, 1440865, 0.3434343434343434),\n",
              " (443170, 619564, 0.3232323232323232),\n",
              " (508737, 637191, 0.48809523809523814),\n",
              " (637191, 947030, 0.33999999999999997),\n",
              " (654754, 1367282, 0.45744680851063835),\n",
              " (896975, 1481251, 0.32999999999999996),\n",
              " (901859, 1084112, 0.3191489361702128),\n",
              " (1110359, 1120201, 0.26041666666666663),\n",
              " (254225, 1521637, 0.5357142857142857),\n",
              " (226369, 381044, 0.5652173913043479),\n",
              " (226369, 1084112, 0.48235294117647054),\n",
              " (752561, 1215669, 0.0),\n",
              " (788632, 964835, 0.34090909090909094),\n",
              " (1057604, 1361632, 0.45977011494252873),\n",
              " (1345101, 1605572, 0.020000000000000018),\n",
              " (254225, 524299, 0.44318181818181823),\n",
              " (106539, 1513641, 0.38636363636363635),\n",
              " (376747, 1178559, 0.36),\n",
              " (483497, 1109007, 0.34693877551020413),\n",
              " (117032, 1616409, 0.449438202247191),\n",
              " (443170, 806204, 0.28),\n",
              " (443170, 1215669, 0.28),\n",
              " (1084112, 1215669, 0.20999999999999996),\n",
              " (226369, 677180, 0.5128205128205128),\n",
              " (226369, 1616409, 0.5866666666666667),\n",
              " (896975, 1521637, 0.31000000000000005),\n",
              " (1440865, 1691604, 0.31000000000000005),\n",
              " (706750, 1614871, 0.5647058823529412),\n",
              " (733230, 1214720, 0.4946236559139785),\n",
              " (804301, 905711, 0.5416666666666667),\n",
              " (853215, 1110359, 0.3908045977011494),\n",
              " (71617, 1572681, 0.26315789473684215),\n",
              " (376747, 1110359, 0.27),\n",
              " (473922, 1445985, 0.5542168674698795),\n",
              " (654754, 677180, 0.426829268292683),\n",
              " (733230, 1521637, 0.32558139534883723),\n",
              " (853215, 1521637, 0.4),\n",
              " (129527, 1521637, 0.5060240963855422),\n",
              " (384188, 443170, 0.3902439024390244),\n",
              " (438781, 1270477, 0.276595744680851),\n",
              " (504687, 1452354, 0.42553191489361697),\n",
              " (620863, 1213228, 0.5842696629213483),\n",
              " (1605572, 1648957, 0.30000000000000004),\n",
              " (770639, 815375, 0.48),\n",
              " (1034773, 1605572, 0.37755102040816324),\n",
              " (1057604, 1505655, 0.28421052631578947),\n",
              " (226369, 1214720, 0.5443037974683544),\n",
              " (901859, 1513641, 0.30208333333333337),\n",
              " (1120201, 1367282, 0.18556701030927836),\n",
              " (129527, 1616409, 0.52),\n",
              " (384188, 815375, 0.5263157894736843),\n",
              " (654754, 755285, 0.5316455696202531),\n",
              " (654754, 1084112, 0.38636363636363635),\n",
              " (721965, 1213228, 0.2947368421052632),\n",
              " (376747, 893684, 0.28),\n",
              " (893684, 1505655, 0.40625),\n",
              " (444387, 1579545, 0.5),\n",
              " (465163, 1481251, 0.4871794871794872),\n",
              " (508737, 1579545, 0.5256410256410257),\n",
              " (576867, 896975, 0.18999999999999995),\n",
              " (620863, 896975, 0.51),\n",
              " (384188, 1034773, 0.48750000000000004),\n",
              " (254225, 832967, 0.47),\n",
              " (755285, 1591758, 0.5542168674698795),\n",
              " (474810, 1691604, 0.32291666666666663),\n",
              " (806204, 1215669, 0.0),\n",
              " (883786, 1445985, 0.3563218390804598),\n",
              " (896975, 1499220, 0.28),\n",
              " (947030, 1668802, 0.010000000000000009),\n",
              " (1057604, 1179133, 0.4157303370786517),\n",
              " (129527, 438781, 0.3932584269662921),\n",
              " (129527, 720899, 0.4719101123595506),\n",
              " (438781, 576867, 0.2210526315789474),\n",
              " (654754, 1614871, 0.5487804878048781),\n",
              " (733230, 815375, 0.5058823529411764),\n",
              " (755285, 1614871, 0.5466666666666666),\n",
              " (1110359, 1452354, 0.43181818181818177),\n",
              " (129527, 474810, 0.4408602150537635),\n",
              " (381044, 905711, 0.5),\n",
              " (619564, 905711, 0.5),\n",
              " (733230, 973215, 0.36458333333333337),\n",
              " (733230, 1367282, 0.36458333333333337),\n",
              " (1084112, 1109007, 0.21212121212121215),\n",
              " (1214720, 1691604, 0.41860465116279066),\n",
              " (1488599, 1505655, 0.2872340425531915),\n",
              " (226369, 973215, 0.5),\n",
              " (117032, 1445985, 0.4),\n",
              " (947030, 1057604, 0.18999999999999995),\n",
              " (254225, 504687, 0.44318181818181823),\n",
              " (438781, 721965, 0.19791666666666663),\n",
              " (1194679, 1488599, 0.5795454545454546),\n",
              " (1273727, 1572681, 0.33333333333333337),\n",
              " (117032, 1505655, 0.24731182795698925),\n",
              " (473922, 483497, 0.45569620253164556),\n",
              " (106539, 1084112, 0.44318181818181823),\n",
              " (376747, 444387, 0.35),\n",
              " (677180, 1214720, 0.45882352941176474),\n",
              " (788632, 905711, 0.5121951219512195),\n",
              " (1215669, 1481251, 0.32999999999999996),\n",
              " (1616409, 1691604, 0.5232558139534884),\n",
              " (483497, 1307778, 0.44705882352941173),\n",
              " (1488599, 1691604, 0.3586956521739131),\n",
              " (117032, 254225, 0.5054945054945055),\n",
              " (770639, 1215669, 0.0),\n",
              " (788632, 806204, 0.31000000000000005),\n",
              " (964835, 1361632, 0.48235294117647054),\n",
              " (990545, 1215669, 0.43999999999999995),\n",
              " (384188, 1110359, 0.4534883720930233),\n",
              " (524299, 720899, 0.23655913978494625),\n",
              " (1214720, 1273727, 0.39534883720930236),\n",
              " (106539, 896975, 0.42000000000000004),\n",
              " (381044, 654754, 0.3707865168539326),\n",
              " (474810, 1213228, 0.27835051546391754),\n",
              " (677180, 1345101, 0.33999999999999997),\n",
              " (755285, 1109007, 0.4747474747474747),\n",
              " (1178559, 1345101, 0.36),\n",
              " (71617, 804301, 0.4782608695652174),\n",
              " (381044, 508737, 0.38636363636363635),\n",
              " (444387, 1215669, 0.35),\n",
              " (619564, 1648957, 0.33999999999999997),\n",
              " (508737, 1361632, 0.5066666666666666),\n",
              " (1307778, 1499220, 0.37209302325581395),\n",
              " (71617, 226369, 0.5319148936170213),\n",
              " (465163, 853215, 0.525),\n",
              " (226369, 1488599, 0.4883720930232558),\n",
              " (491555, 576867, 0.35789473684210527),\n",
              " (654754, 804301, 0.5443037974683544),\n",
              " (720899, 815375, 0.5056179775280899),\n",
              " (721965, 853215, 0.3111111111111111),\n",
              " (1213228, 1648957, 0.3804347826086957),\n",
              " (376747, 853215, 0.32999999999999996),\n",
              " (381044, 1614871, 0.5),\n",
              " (755285, 1513641, 0.4945054945054945),\n",
              " (125621, 1616409, 0.43434343434343436),\n",
              " (443170, 1109007, 0.26530612244897955),\n",
              " (806204, 1034773, 0.39),\n",
              " (832967, 1034773, 0.4),\n",
              " (444387, 1488599, 0.38888888888888884),\n",
              " (474810, 1307778, 0.33684210526315794),\n",
              " (1179133, 1214720, 0.5238095238095238),\n",
              " (381044, 1270477, 0.34042553191489366),\n",
              " (504687, 853215, 0.33333333333333337),\n",
              " (720899, 1648957, 0.3369565217391305),\n",
              " (853215, 1178559, 0.4767441860465116),\n",
              " (1084112, 1614871, 0.46590909090909094),\n",
              " (384188, 677180, 0.42500000000000004),\n",
              " (491555, 1440865, 0.27),\n",
              " (1273727, 1605572, 0.2727272727272727),\n",
              " (720899, 1034773, 0.38636363636363635),\n",
              " (125621, 504687, 0.16161616161616166),\n",
              " (249104, 1214720, 0.35),\n",
              " (483497, 576867, 0.3707865168539326),\n",
              " (508737, 1178559, 0.44999999999999996),\n",
              " (720899, 1270477, 0.35106382978723405),\n",
              " (788632, 1481251, 0.41860465116279066),\n",
              " (815375, 1668802, 0.48),\n",
              " (906430, 1034773, 0.47619047619047616),\n",
              " (117032, 376747, 0.18000000000000005),\n",
              " (474810, 1668802, 0.09999999999999998),\n",
              " (619564, 788632, 0.33673469387755106),\n",
              " (832967, 1057604, 0.18999999999999995),\n",
              " (1345101, 1499220, 0.28),\n",
              " (1361632, 1499220, 0.5411764705882354),\n",
              " (129527, 906430, 0.4358974358974359),\n",
              " (438781, 1648957, 0.35051546391752575),\n",
              " (637191, 1572681, 0.36363636363636365),\n",
              " (706750, 1616409, 0.49382716049382713),\n",
              " (1213228, 1572681, 0.3076923076923077),\n",
              " (249104, 491555, 0.25),\n",
              " (474810, 483497, 0.36170212765957444),\n",
              " (706750, 947030, 0.35),\n",
              " (853215, 964835, 0.41758241758241754),\n",
              " (117032, 1034773, 0.4285714285714286),\n",
              " (381044, 611352, 0.42391304347826086),\n",
              " (443170, 1084112, 0.34065934065934067),\n",
              " (444387, 893684, 0.388235294117647),\n",
              " (576867, 619564, 0.23232323232323238),\n",
              " (788632, 1214720, 0.45977011494252873),\n",
              " (1616409, 1668802, 0.43999999999999995),\n",
              " (1270477, 1361632, 0.4819277108433735),\n",
              " (1499220, 1605572, 0.26530612244897955),\n",
              " (129527, 905711, 0.47887323943661975),\n",
              " (473922, 654754, 0.5421686746987953),\n",
              " (491555, 804301, 0.5730337078651686),\n",
              " (491555, 1481251, 0.4222222222222223),\n",
              " (483497, 720899, 0.3707865168539326),\n",
              " (654754, 1345101, 0.37),\n",
              " (677180, 1572681, 0.3932584269662921),\n",
              " (752561, 1614871, 0.43999999999999995),\n",
              " (524299, 990545, 0.48913043478260865),\n",
              " (443170, 901859, 0.3936170212765957),\n",
              " (905711, 1345101, 0.47),\n",
              " (1084112, 1270477, 0.31868131868131866),\n",
              " (770639, 1194679, 0.55),\n",
              " (893684, 1591758, 0.4022988505747126),\n",
              " (254225, 1345101, 0.45999999999999996),\n",
              " (125621, 1499220, 0.2727272727272727),\n",
              " (474810, 1513641, 0.22448979591836737),\n",
              " (752561, 1521637, 0.31000000000000005),\n",
              " (806204, 896975, 0.0),\n",
              " (973215, 1513641, 0.28865979381443296),\n",
              " (504687, 1616409, 0.4382022471910112),\n",
              " (576867, 1572681, 0.28260869565217395),\n",
              " (721965, 906430, 0.2921348314606742),\n",
              " (71617, 1505655, 0.25773195876288657),\n",
              " (71617, 1614871, 0.4347826086956522),\n",
              " (473922, 752561, 0.42000000000000004),\n",
              " (906430, 1605572, 0.33333333333333337),\n",
              " (249104, 576867, 0.18999999999999995),\n",
              " (677180, 1579545, 0.4683544303797469),\n",
              " (804301, 1215669, 0.48),\n",
              " (381044, 1488599, 0.276595744680851),\n",
              " (1034773, 1445985, 0.4814814814814815),\n",
              " (1034773, 1521637, 0.4337349397590361),\n",
              " (249104, 254225, 0.45999999999999996),\n",
              " (254225, 444387, 0.41333333333333333),\n",
              " (1178559, 1361632, 0.43243243243243246),\n",
              " (125621, 947030, 0.020000000000000018),\n",
              " (788632, 1109007, 0.32999999999999996),\n",
              " (883786, 1440865, 0.19191919191919193),\n",
              " (896975, 1668802, 0.0),\n",
              " (990545, 1120201, 0.4042553191489362),\n",
              " (611352, 654754, 0.42500000000000004),\n",
              " (997310, 1648957, 0.5789473684210527),\n",
              " (1178559, 1194679, 0.5844155844155844),\n",
              " (71617, 524299, 0.21875),\n",
              " (249104, 473922, 0.42000000000000004),\n",
              " (524299, 806204, 0.17000000000000004),\n",
              " (721965, 883786, 0.25263157894736843),\n",
              " (721965, 1215669, 0.15000000000000002),\n",
              " (1505655, 1513641, 0.2989690721649485),\n",
              " (129527, 1440865, 0.4545454545454546),\n",
              " (376747, 905711, 0.47),\n",
              " (381044, 1084112, 0.26881720430107525),\n",
              " (474810, 804301, 0.5052631578947369),\n",
              " (637191, 752561, 0.32999999999999996),\n",
              " (1445985, 1579545, 0.4605263157894737),\n",
              " (483497, 1488599, 0.4),\n",
              " (832967, 1307778, 0.32999999999999996),\n",
              " (1307778, 1445985, 0.5393258426966292),\n",
              " (815375, 1270477, 0.5517241379310345),\n",
              " (1179133, 1273727, 0.5168539325842696),\n",
              " (896975, 1222814, 0.030000000000000027),\n",
              " (973215, 1179133, 0.4157303370786517),\n",
              " (384188, 1488599, 0.4269662921348315),\n",
              " (721965, 1572681, 0.3125),\n",
              " (804301, 1214720, 0.5375),\n",
              " (483497, 1110359, 0.44318181818181823),\n",
              " (524299, 1345101, 0.17000000000000004),\n",
              " (677180, 906430, 0.47126436781609193),\n",
              " (906430, 1513641, 0.3763440860215054),\n",
              " (1178559, 1521637, 0.3975903614457831),\n",
              " (444387, 1214720, 0.47058823529411764),\n",
              " (720899, 1120201, 0.19587628865979378),\n",
              " (973215, 1481251, 0.3804347826086957),\n",
              " (508737, 1505655, 0.3977272727272727),\n",
              " (129527, 1499220, 0.5730337078651686),\n",
              " (752561, 788632, 0.31000000000000005),\n",
              " (883786, 1270477, 0.35106382978723405),\n",
              " (896975, 1345101, 0.0),\n",
              " (1452354, 1521637, 0.4943820224719101),\n",
              " (1499220, 1668802, 0.28),\n",
              " (524299, 1579545, 0.43181818181818177),\n",
              " (654754, 853215, 0.5057471264367817),\n",
              " (706750, 1273727, 0.4382022471910112),\n",
              " (1213228, 1614871, 0.4534883720930233),\n",
              " (438781, 619564, 0.16161616161616166),\n",
              " (474810, 853215, 0.32978723404255317),\n",
              " (677180, 1513641, 0.3870967741935484),\n",
              " (893684, 1215669, 0.28),\n",
              " (1178559, 1605572, 0.34693877551020413),\n",
              " (1370809, 1513641, 0.5617977528089888),\n",
              " (249104, 905711, 0.47),\n",
              " (444387, 1513641, 0.3978494623655914),\n",
              " (473922, 1120201, 0.41666666666666663),\n",
              " (755285, 1270477, 0.4320987654320988),\n",
              " (832967, 1481251, 0.33999999999999997),\n",
              " (815375, 1057604, 0.45977011494252873),\n",
              " (1499220, 1572681, 0.3804347826086957),\n",
              " (620863, 1488599, 0.5172413793103448),\n",
              " (117032, 883786, 0.31958762886597936),\n",
              " (125621, 1120201, 0.0505050505050505),\n",
              " (832967, 1367282, 0.18999999999999995),\n",
              " (947030, 1691604, 0.30000000000000004),\n",
              " (964835, 990545, 0.5056179775280899),\n",
              " (964835, 1270477, 0.34065934065934067),\n",
              " (1215669, 1222814, 0.030000000000000027),\n",
              " (504687, 1572681, 0.3157894736842105),\n",
              " (611352, 755285, 0.45333333333333337),\n",
              " (720899, 1579545, 0.48888888888888893),\n",
              " (720899, 1614871, 0.5108695652173914),\n",
              " (853215, 1614871, 0.4814814814814815),\n",
              " (1110359, 1307778, 0.4505494505494505),\n",
              " (619564, 1178559, 0.35416666666666663),\n",
              " (806204, 853215, 0.32999999999999996),\n",
              " (1110359, 1370809, 0.5731707317073171),\n",
              " (1440865, 1572681, 0.25),\n",
              " (438781, 901859, 0.26041666666666663),\n",
              " (611352, 1445985, 0.49397590361445787),\n",
              " (1521637, 1616409, 0.5119047619047619),\n",
              " (443170, 1034773, 0.3975903614457831),\n",
              " (491555, 1034773, 0.38095238095238093),\n",
              " (1214720, 1505655, 0.37777777777777777),\n",
              " (611352, 1505655, 0.4516129032258065),\n",
              " (254225, 491555, 0.5),\n",
              " (491555, 1572681, 0.3829787234042553),\n",
              " (611352, 1648957, 0.4831460674157303),\n",
              " (721965, 1488599, 0.26315789473684215),\n",
              " (438781, 896975, 0.12),\n",
              " (443170, 1273727, 0.313953488372093),\n",
              " (508737, 1213228, 0.4606741573033708),\n",
              " (654754, 901859, 0.4565217391304348),\n",
              " (752561, 1648957, 0.28),\n",
              " (788632, 1579545, 0.4691358024691358),\n",
              " (125621, 254225, 0.4545454545454546),\n",
              " (226369, 1345101, 0.5),\n",
              " (254225, 508737, 0.5384615384615384),\n",
              " (249104, 376747, 0.0),\n",
              " (381044, 1179133, 0.4838709677419355),\n",
              " (474810, 901859, 0.23958333333333337),\n",
              " (1215669, 1513641, 0.16000000000000003),\n",
              " (254225, 384188, 0.5384615384615384),\n",
              " (473922, 1178559, 0.475),\n",
              " (706750, 1307778, 0.3855421686746988),\n",
              " (733230, 1616409, 0.49425287356321834),\n",
              " (755285, 1214720, 0.5783132530120482),\n",
              " (1481251, 1579545, 0.4358974358974359),\n",
              " (438781, 1521637, 0.2934782608695652),\n",
              " (706750, 1370809, 0.5897435897435898),\n",
              " (720899, 1345101, 0.18999999999999995),\n",
              " (770639, 853215, 0.32999999999999996),\n",
              " (1213228, 1505655, 0.3877551020408163),\n",
              " (443170, 1120201, 0.28865979381443296),\n",
              " (444387, 508737, 0.4375),\n",
              " (465163, 677180, 0.5375),\n",
              " (465163, 1178559, 0.5256410256410257),\n",
              " (637191, 964835, 0.4),\n",
              " (1084112, 1367282, 0.3052631578947368),\n",
              " (1270477, 1616409, 0.45238095238095233),\n",
              " (654754, 1499220, 0.4831460674157303),\n",
              " (906430, 1361632, 0.49367088607594933),\n",
              " (964835, 1307778, 0.45744680851063835),\n",
              " (1084112, 1505655, 0.2978723404255319),\n",
              " (1307778, 1440865, 0.33999999999999997),\n",
              " (1307778, 1605572, 0.30612244897959184),\n",
              " (964835, 1521637, 0.37777777777777777),\n",
              " (1179133, 1222814, 0.4242424242424242),\n",
              " (1367282, 1499220, 0.32608695652173914),\n",
              " (637191, 1178559, 0.45882352941176474),\n",
              " ...]"
            ]
          },
          "execution_count": 63,
          "metadata": {},
          "output_type": "execute_result"
        }
      ],
      "source": [
        "similar_pairs"
      ]
    },
    {
      "cell_type": "markdown",
      "metadata": {
        "id": "5VqtlQ7joEE-"
      },
      "source": [
        "**Results**"
      ]
    },
    {
      "cell_type": "code",
      "execution_count": null,
      "metadata": {
        "colab": {
          "background_save": true
        },
        "id": "PM9Cde_doHW4"
      },
      "outputs": [],
      "source": [
        "similar_df = pd.DataFrame(similar_pairs, columns=['doc_id1', 'doc_id2', 'jaccard_distance'])\n"
      ]
    },
    {
      "cell_type": "code",
      "execution_count": null,
      "metadata": {
        "colab": {
          "background_save": true
        },
        "id": "RB9-KPcPoKLV",
        "outputId": "166da60a-394d-4044-910b-10810d84bedf"
      },
      "outputs": [
        {
          "data": {
            "application/vnd.google.colaboratory.intrinsic+json": {
              "summary": "{\n  \"name\": \"similar_df\",\n  \"rows\": 3927,\n  \"fields\": [\n    {\n      \"column\": \"doc_id1\",\n      \"properties\": {\n        \"dtype\": \"number\",\n        \"std\": 363950,\n        \"min\": 71617,\n        \"max\": 1668802,\n        \"num_unique_values\": 90,\n        \"samples\": [\n          376747,\n          381044,\n          1110359\n        ],\n        \"semantic_type\": \"\",\n        \"description\": \"\"\n      }\n    },\n    {\n      \"column\": \"doc_id2\",\n      \"properties\": {\n        \"dtype\": \"number\",\n        \"std\": 359433,\n        \"min\": 106539,\n        \"max\": 1691604,\n        \"num_unique_values\": 90,\n        \"samples\": [\n          1270477,\n          619564,\n          755285\n        ],\n        \"semantic_type\": \"\",\n        \"description\": \"\"\n      }\n    },\n    {\n      \"column\": \"jaccard_distance\",\n      \"properties\": {\n        \"dtype\": \"number\",\n        \"std\": 0.13079248053334866,\n        \"min\": 0.0,\n        \"max\": 0.5977011494252873,\n        \"num_unique_values\": 683,\n        \"samples\": [\n          0.3529411764705882,\n          0.36,\n          0.33684210526315794\n        ],\n        \"semantic_type\": \"\",\n        \"description\": \"\"\n      }\n    }\n  ]\n}",
              "type": "dataframe",
              "variable_name": "similar_df"
            },
            "text/html": [
              "\n",
              "  <div id=\"df-1e0e097e-4033-4779-bb53-baa2f0060770\" class=\"colab-df-container\">\n",
              "    <div>\n",
              "<style scoped>\n",
              "    .dataframe tbody tr th:only-of-type {\n",
              "        vertical-align: middle;\n",
              "    }\n",
              "\n",
              "    .dataframe tbody tr th {\n",
              "        vertical-align: top;\n",
              "    }\n",
              "\n",
              "    .dataframe thead th {\n",
              "        text-align: right;\n",
              "    }\n",
              "</style>\n",
              "<table border=\"1\" class=\"dataframe\">\n",
              "  <thead>\n",
              "    <tr style=\"text-align: right;\">\n",
              "      <th></th>\n",
              "      <th>doc_id1</th>\n",
              "      <th>doc_id2</th>\n",
              "      <th>jaccard_distance</th>\n",
              "    </tr>\n",
              "  </thead>\n",
              "  <tbody>\n",
              "    <tr>\n",
              "      <th>0</th>\n",
              "      <td>249104</td>\n",
              "      <td>832967</td>\n",
              "      <td>0.010000</td>\n",
              "    </tr>\n",
              "    <tr>\n",
              "      <th>1</th>\n",
              "      <td>465163</td>\n",
              "      <td>1499220</td>\n",
              "      <td>0.500000</td>\n",
              "    </tr>\n",
              "    <tr>\n",
              "      <th>2</th>\n",
              "      <td>619564</td>\n",
              "      <td>964835</td>\n",
              "      <td>0.290000</td>\n",
              "    </tr>\n",
              "    <tr>\n",
              "      <th>3</th>\n",
              "      <td>619564</td>\n",
              "      <td>1367282</td>\n",
              "      <td>0.240000</td>\n",
              "    </tr>\n",
              "    <tr>\n",
              "      <th>4</th>\n",
              "      <td>832967</td>\n",
              "      <td>1445985</td>\n",
              "      <td>0.373737</td>\n",
              "    </tr>\n",
              "    <tr>\n",
              "      <th>...</th>\n",
              "      <td>...</td>\n",
              "      <td>...</td>\n",
              "      <td>...</td>\n",
              "    </tr>\n",
              "    <tr>\n",
              "      <th>3922</th>\n",
              "      <td>508737</td>\n",
              "      <td>1084112</td>\n",
              "      <td>0.472527</td>\n",
              "    </tr>\n",
              "    <tr>\n",
              "      <th>3923</th>\n",
              "      <td>721965</td>\n",
              "      <td>973215</td>\n",
              "      <td>0.278351</td>\n",
              "    </tr>\n",
              "    <tr>\n",
              "      <th>3924</th>\n",
              "      <td>752561</td>\n",
              "      <td>1481251</td>\n",
              "      <td>0.330000</td>\n",
              "    </tr>\n",
              "    <tr>\n",
              "      <th>3925</th>\n",
              "      <td>1367282</td>\n",
              "      <td>1488599</td>\n",
              "      <td>0.276596</td>\n",
              "    </tr>\n",
              "    <tr>\n",
              "      <th>3926</th>\n",
              "      <td>254225</td>\n",
              "      <td>1270477</td>\n",
              "      <td>0.545455</td>\n",
              "    </tr>\n",
              "  </tbody>\n",
              "</table>\n",
              "<p>3927 rows × 3 columns</p>\n",
              "</div>\n",
              "    <div class=\"colab-df-buttons\">\n",
              "\n",
              "  <div class=\"colab-df-container\">\n",
              "    <button class=\"colab-df-convert\" onclick=\"convertToInteractive('df-1e0e097e-4033-4779-bb53-baa2f0060770')\"\n",
              "            title=\"Convert this dataframe to an interactive table.\"\n",
              "            style=\"display:none;\">\n",
              "\n",
              "  <svg xmlns=\"http://www.w3.org/2000/svg\" height=\"24px\" viewBox=\"0 -960 960 960\">\n",
              "    <path d=\"M120-120v-720h720v720H120Zm60-500h600v-160H180v160Zm220 220h160v-160H400v160Zm0 220h160v-160H400v160ZM180-400h160v-160H180v160Zm440 0h160v-160H620v160ZM180-180h160v-160H180v160Zm440 0h160v-160H620v160Z\"/>\n",
              "  </svg>\n",
              "    </button>\n",
              "\n",
              "  <style>\n",
              "    .colab-df-container {\n",
              "      display:flex;\n",
              "      gap: 12px;\n",
              "    }\n",
              "\n",
              "    .colab-df-convert {\n",
              "      background-color: #E8F0FE;\n",
              "      border: none;\n",
              "      border-radius: 50%;\n",
              "      cursor: pointer;\n",
              "      display: none;\n",
              "      fill: #1967D2;\n",
              "      height: 32px;\n",
              "      padding: 0 0 0 0;\n",
              "      width: 32px;\n",
              "    }\n",
              "\n",
              "    .colab-df-convert:hover {\n",
              "      background-color: #E2EBFA;\n",
              "      box-shadow: 0px 1px 2px rgba(60, 64, 67, 0.3), 0px 1px 3px 1px rgba(60, 64, 67, 0.15);\n",
              "      fill: #174EA6;\n",
              "    }\n",
              "\n",
              "    .colab-df-buttons div {\n",
              "      margin-bottom: 4px;\n",
              "    }\n",
              "\n",
              "    [theme=dark] .colab-df-convert {\n",
              "      background-color: #3B4455;\n",
              "      fill: #D2E3FC;\n",
              "    }\n",
              "\n",
              "    [theme=dark] .colab-df-convert:hover {\n",
              "      background-color: #434B5C;\n",
              "      box-shadow: 0px 1px 3px 1px rgba(0, 0, 0, 0.15);\n",
              "      filter: drop-shadow(0px 1px 2px rgba(0, 0, 0, 0.3));\n",
              "      fill: #FFFFFF;\n",
              "    }\n",
              "  </style>\n",
              "\n",
              "    <script>\n",
              "      const buttonEl =\n",
              "        document.querySelector('#df-1e0e097e-4033-4779-bb53-baa2f0060770 button.colab-df-convert');\n",
              "      buttonEl.style.display =\n",
              "        google.colab.kernel.accessAllowed ? 'block' : 'none';\n",
              "\n",
              "      async function convertToInteractive(key) {\n",
              "        const element = document.querySelector('#df-1e0e097e-4033-4779-bb53-baa2f0060770');\n",
              "        const dataTable =\n",
              "          await google.colab.kernel.invokeFunction('convertToInteractive',\n",
              "                                                    [key], {});\n",
              "        if (!dataTable) return;\n",
              "\n",
              "        const docLinkHtml = 'Like what you see? Visit the ' +\n",
              "          '<a target=\"_blank\" href=https://colab.research.google.com/notebooks/data_table.ipynb>data table notebook</a>'\n",
              "          + ' to learn more about interactive tables.';\n",
              "        element.innerHTML = '';\n",
              "        dataTable['output_type'] = 'display_data';\n",
              "        await google.colab.output.renderOutput(dataTable, element);\n",
              "        const docLink = document.createElement('div');\n",
              "        docLink.innerHTML = docLinkHtml;\n",
              "        element.appendChild(docLink);\n",
              "      }\n",
              "    </script>\n",
              "  </div>\n",
              "\n",
              "\n",
              "<div id=\"df-d685f9f6-9605-4f57-95da-455bc665c8fe\">\n",
              "  <button class=\"colab-df-quickchart\" onclick=\"quickchart('df-d685f9f6-9605-4f57-95da-455bc665c8fe')\"\n",
              "            title=\"Suggest charts\"\n",
              "            style=\"display:none;\">\n",
              "\n",
              "<svg xmlns=\"http://www.w3.org/2000/svg\" height=\"24px\"viewBox=\"0 0 24 24\"\n",
              "     width=\"24px\">\n",
              "    <g>\n",
              "        <path d=\"M19 3H5c-1.1 0-2 .9-2 2v14c0 1.1.9 2 2 2h14c1.1 0 2-.9 2-2V5c0-1.1-.9-2-2-2zM9 17H7v-7h2v7zm4 0h-2V7h2v10zm4 0h-2v-4h2v4z\"/>\n",
              "    </g>\n",
              "</svg>\n",
              "  </button>\n",
              "\n",
              "<style>\n",
              "  .colab-df-quickchart {\n",
              "      --bg-color: #E8F0FE;\n",
              "      --fill-color: #1967D2;\n",
              "      --hover-bg-color: #E2EBFA;\n",
              "      --hover-fill-color: #174EA6;\n",
              "      --disabled-fill-color: #AAA;\n",
              "      --disabled-bg-color: #DDD;\n",
              "  }\n",
              "\n",
              "  [theme=dark] .colab-df-quickchart {\n",
              "      --bg-color: #3B4455;\n",
              "      --fill-color: #D2E3FC;\n",
              "      --hover-bg-color: #434B5C;\n",
              "      --hover-fill-color: #FFFFFF;\n",
              "      --disabled-bg-color: #3B4455;\n",
              "      --disabled-fill-color: #666;\n",
              "  }\n",
              "\n",
              "  .colab-df-quickchart {\n",
              "    background-color: var(--bg-color);\n",
              "    border: none;\n",
              "    border-radius: 50%;\n",
              "    cursor: pointer;\n",
              "    display: none;\n",
              "    fill: var(--fill-color);\n",
              "    height: 32px;\n",
              "    padding: 0;\n",
              "    width: 32px;\n",
              "  }\n",
              "\n",
              "  .colab-df-quickchart:hover {\n",
              "    background-color: var(--hover-bg-color);\n",
              "    box-shadow: 0 1px 2px rgba(60, 64, 67, 0.3), 0 1px 3px 1px rgba(60, 64, 67, 0.15);\n",
              "    fill: var(--button-hover-fill-color);\n",
              "  }\n",
              "\n",
              "  .colab-df-quickchart-complete:disabled,\n",
              "  .colab-df-quickchart-complete:disabled:hover {\n",
              "    background-color: var(--disabled-bg-color);\n",
              "    fill: var(--disabled-fill-color);\n",
              "    box-shadow: none;\n",
              "  }\n",
              "\n",
              "  .colab-df-spinner {\n",
              "    border: 2px solid var(--fill-color);\n",
              "    border-color: transparent;\n",
              "    border-bottom-color: var(--fill-color);\n",
              "    animation:\n",
              "      spin 1s steps(1) infinite;\n",
              "  }\n",
              "\n",
              "  @keyframes spin {\n",
              "    0% {\n",
              "      border-color: transparent;\n",
              "      border-bottom-color: var(--fill-color);\n",
              "      border-left-color: var(--fill-color);\n",
              "    }\n",
              "    20% {\n",
              "      border-color: transparent;\n",
              "      border-left-color: var(--fill-color);\n",
              "      border-top-color: var(--fill-color);\n",
              "    }\n",
              "    30% {\n",
              "      border-color: transparent;\n",
              "      border-left-color: var(--fill-color);\n",
              "      border-top-color: var(--fill-color);\n",
              "      border-right-color: var(--fill-color);\n",
              "    }\n",
              "    40% {\n",
              "      border-color: transparent;\n",
              "      border-right-color: var(--fill-color);\n",
              "      border-top-color: var(--fill-color);\n",
              "    }\n",
              "    60% {\n",
              "      border-color: transparent;\n",
              "      border-right-color: var(--fill-color);\n",
              "    }\n",
              "    80% {\n",
              "      border-color: transparent;\n",
              "      border-right-color: var(--fill-color);\n",
              "      border-bottom-color: var(--fill-color);\n",
              "    }\n",
              "    90% {\n",
              "      border-color: transparent;\n",
              "      border-bottom-color: var(--fill-color);\n",
              "    }\n",
              "  }\n",
              "</style>\n",
              "\n",
              "  <script>\n",
              "    async function quickchart(key) {\n",
              "      const quickchartButtonEl =\n",
              "        document.querySelector('#' + key + ' button');\n",
              "      quickchartButtonEl.disabled = true;  // To prevent multiple clicks.\n",
              "      quickchartButtonEl.classList.add('colab-df-spinner');\n",
              "      try {\n",
              "        const charts = await google.colab.kernel.invokeFunction(\n",
              "            'suggestCharts', [key], {});\n",
              "      } catch (error) {\n",
              "        console.error('Error during call to suggestCharts:', error);\n",
              "      }\n",
              "      quickchartButtonEl.classList.remove('colab-df-spinner');\n",
              "      quickchartButtonEl.classList.add('colab-df-quickchart-complete');\n",
              "    }\n",
              "    (() => {\n",
              "      let quickchartButtonEl =\n",
              "        document.querySelector('#df-d685f9f6-9605-4f57-95da-455bc665c8fe button');\n",
              "      quickchartButtonEl.style.display =\n",
              "        google.colab.kernel.accessAllowed ? 'block' : 'none';\n",
              "    })();\n",
              "  </script>\n",
              "</div>\n",
              "\n",
              "  <div id=\"id_3755ce18-6245-4bd6-a36a-d451ec29844f\">\n",
              "    <style>\n",
              "      .colab-df-generate {\n",
              "        background-color: #E8F0FE;\n",
              "        border: none;\n",
              "        border-radius: 50%;\n",
              "        cursor: pointer;\n",
              "        display: none;\n",
              "        fill: #1967D2;\n",
              "        height: 32px;\n",
              "        padding: 0 0 0 0;\n",
              "        width: 32px;\n",
              "      }\n",
              "\n",
              "      .colab-df-generate:hover {\n",
              "        background-color: #E2EBFA;\n",
              "        box-shadow: 0px 1px 2px rgba(60, 64, 67, 0.3), 0px 1px 3px 1px rgba(60, 64, 67, 0.15);\n",
              "        fill: #174EA6;\n",
              "      }\n",
              "\n",
              "      [theme=dark] .colab-df-generate {\n",
              "        background-color: #3B4455;\n",
              "        fill: #D2E3FC;\n",
              "      }\n",
              "\n",
              "      [theme=dark] .colab-df-generate:hover {\n",
              "        background-color: #434B5C;\n",
              "        box-shadow: 0px 1px 3px 1px rgba(0, 0, 0, 0.15);\n",
              "        filter: drop-shadow(0px 1px 2px rgba(0, 0, 0, 0.3));\n",
              "        fill: #FFFFFF;\n",
              "      }\n",
              "    </style>\n",
              "    <button class=\"colab-df-generate\" onclick=\"generateWithVariable('similar_df')\"\n",
              "            title=\"Generate code using this dataframe.\"\n",
              "            style=\"display:none;\">\n",
              "\n",
              "  <svg xmlns=\"http://www.w3.org/2000/svg\" height=\"24px\"viewBox=\"0 0 24 24\"\n",
              "       width=\"24px\">\n",
              "    <path d=\"M7,19H8.4L18.45,9,17,7.55,7,17.6ZM5,21V16.75L18.45,3.32a2,2,0,0,1,2.83,0l1.4,1.43a1.91,1.91,0,0,1,.58,1.4,1.91,1.91,0,0,1-.58,1.4L9.25,21ZM18.45,9,17,7.55Zm-12,3A5.31,5.31,0,0,0,4.9,8.1,5.31,5.31,0,0,0,1,6.5,5.31,5.31,0,0,0,4.9,4.9,5.31,5.31,0,0,0,6.5,1,5.31,5.31,0,0,0,8.1,4.9,5.31,5.31,0,0,0,12,6.5,5.46,5.46,0,0,0,6.5,12Z\"/>\n",
              "  </svg>\n",
              "    </button>\n",
              "    <script>\n",
              "      (() => {\n",
              "      const buttonEl =\n",
              "        document.querySelector('#id_3755ce18-6245-4bd6-a36a-d451ec29844f button.colab-df-generate');\n",
              "      buttonEl.style.display =\n",
              "        google.colab.kernel.accessAllowed ? 'block' : 'none';\n",
              "\n",
              "      buttonEl.onclick = () => {\n",
              "        google.colab.notebook.generateWithVariable('similar_df');\n",
              "      }\n",
              "      })();\n",
              "    </script>\n",
              "  </div>\n",
              "\n",
              "    </div>\n",
              "  </div>\n"
            ],
            "text/plain": [
              "      doc_id1  doc_id2  jaccard_distance\n",
              "0      249104   832967          0.010000\n",
              "1      465163  1499220          0.500000\n",
              "2      619564   964835          0.290000\n",
              "3      619564  1367282          0.240000\n",
              "4      832967  1445985          0.373737\n",
              "...       ...      ...               ...\n",
              "3922   508737  1084112          0.472527\n",
              "3923   721965   973215          0.278351\n",
              "3924   752561  1481251          0.330000\n",
              "3925  1367282  1488599          0.276596\n",
              "3926   254225  1270477          0.545455\n",
              "\n",
              "[3927 rows x 3 columns]"
            ]
          },
          "execution_count": 65,
          "metadata": {},
          "output_type": "execute_result"
        }
      ],
      "source": [
        "similar_df"
      ]
    },
    {
      "cell_type": "markdown",
      "source": [
        "Example of two pairs"
      ],
      "metadata": {
        "id": "Spfon9KDNIsy"
      }
    },
    {
      "cell_type": "code",
      "execution_count": 70,
      "metadata": {
        "id": "aum3ZDMtoNh-",
        "colab": {
          "base_uri": "https://localhost:8080/"
        },
        "outputId": "c4c07e26-0074-4660-c3a2-ea5e038ab988"
      },
      "outputs": [
        {
          "output_type": "stream",
          "name": "stdout",
          "text": [
            "Document 1:\n",
            " you don't give up. You are resilient and only get stronger from the ups and downs\n",
            "\n",
            "Document 2:\n",
            " from captivating performances to vibrant art exhibitions\n",
            "\n",
            "Jaccard Distance: 0.0100\n",
            "\n",
            "---\n",
            "Document 1:\n",
            "Company Description Work with Us. Change the World. At AECOM, we're delivering a better world. Whether improving your commute, keeping the lights on, providing access to clean water, or transforming skylines, our work helps people and communities thrive. We are the world's trusted infrastructure consulting firm, partnering with clients to solve the world’s most complex challenges and build legacies for future generations. There has never been a better time to be at AECOM. With accelerating infrastructure investment worldwide, our services are in great demand. We invite you to bring your bold ideas and big dreams and become part of a global team of nearly 50,000 planners, designers, engineers, scientists, digital innovators, program and construction managers and other professionals delivering projects that create a positive and tangible impact around the world. We're one global team driven by our common purpose to deliver a better world. Join us. Job Description Are you passionate about improving the environmental performance of infrastructure development projects? If so, we’d love to hear from you at AECOM. We are recruiting experienced Environmental Consultants across the UK to join our diverse Environment & Sustainability business. As An Environmental Consultant You’ll Assist In Coordinating Environmental Inputs To Large-scale Development Projects That Are Transforming Our Infrastructure, Such As Power generation projects, including those that include carbon capture and storage, hydrogen and renewables (including solar and offshore) Power distribution and transmission projects (including international connectors) Strategic national and regional rail projects Highway improvements and greenway projects Regeneration projects, including portside developments Developments within the ecommerce, minerals and waste, water, defence, aviation, commercial/ residential and industrial sectors This role means that you’ll provide environmental inputs across all project life stages, from early strategy development and site identification studies, through feasibility, optioneering/ option selection, outline design, to detailed design, discharging of conditions, construction, and scheme operation/ maintenance. You will have the opportunity to work across a portfolio of development projects covering multiple consenting regimes (DCO, TCPA, TWA, hybrid Bill etc.). You will work daily with technical experts within our established Environmental Impact team. We are a founding member of the Institute of Environmental Management and Assessment (IEMA) EIA Quality Mark, whilst everything we do aligns with our environmental, social and governance (ESG) strategy. Your Role Will Include Coordinating multidisciplinary environmental inputs across a wide range of projects, supporting projects to gain development consent Coordinating the preparation of screening and scoping reports, environmental assessments, Environmental Statements, Environmental Management Plans (including the technical review of specialist technical inputs) Working in partnership with members of our technical environmental teams Liaising with clients and internal supply teams Working as part of integrated design teams to identify environmental constraints, avoid impacts and develop solutions in accordance with the mitigation hierarchy, as well as delivering benefits where possible Coordinating resources and budgets (with support as applicable) Supporting business development opportunities and associated fee and technical proposal development Promoting AECOM’s environmental services to both internal and external audiences Qualifications Confidence when engaging with a wide variety of stakeholder groups The ability to work collaboratively as part of an established team, coordinating inputs from specialist technical teams Excellent verbal and report writing skills, including technical reviewing with an eye for detail Developing project management skills, including staff resource management and budget management A degree in a relevant environmental discipline (preferably a Masters degree) and an appropriate professional membership Willingness to travel Additional Information About AECOM AECOM is the world’s trusted infrastructure consulting firm, delivering professional services throughout the project lifecycle – from advisory, planning, design and engineering to program and construction management. On projects spanning transportation, buildings, water, new energy and the environment, our public- and private-sector clients trust us to solve their most complex challenges. Our teams are driven by a common purpose to deliver a better world through our unrivaled technical and digital expertise, a culture of equity, diversity and inclusion, and a commitment to environmental, social and governance priorities. AECOM is a Fortune 500 firm and its Professional Services business had revenue of $13.1 billion in fiscal year 2022. See how we are delivering sustainable legacies for generations to come at aecom.com and @AECOM. Freedom to Grow in a World of Opportunity You will have the flexibility you need to do your best work with hybrid work options. Whether you’re working from an AECOM office, remote location or at a client site, you will be working in a dynamic environment where your integrity, entrepreneurial spirit and pioneering mindset are championed. You will help us foster a culture of equity, diversity and inclusion – a safe and respectful workplace, where we invite everyone to bring their whole selves to work using their unique talents, backgrounds and expertise to create transformational outcomes for our clients. AECOM provides a wide array of compensation and benefits programs to meet the diverse needs of our employees and their families. We also provide a robust global well-being program. We’re the world’s trusted global infrastructure firm, and we’re in this together – your growth and success are ours too. Join us, and you’ll get all the benefits of being a part of a global, publicly traded firm – access to industry-leading technology and thinking and transformational work with big impact and work flexibility. As an Equal Opportunity Employer, we believe in each person’s potential, and we’ll help you reach yours. All your information will be kept confidential according to EEO guidelines. ReqID: J10099807 Business Line: Environment Business Group: DCS Strategic Business Unit: Europe & India Career Area: Science Work Location Model: Hybrid Show more Show less\n",
            "\n",
            "Document 2:\n",
            "Job Description: Writer London, UK (hybrid working possible) About Us Our client is not just about putting one foot in front of the other. We're about the journey, the progress, and the community of runners committed to improvement. As a leading platform for running enthusiasts, we inspire and educate through a blend of engaging content. As a Writer, you'll be at the forefront of crafting compelling narratives that resonate with our audience across various channels. Role Overview The Writer role is a key position responsible for creating engaging written content for our website, email newsletters, and social media platforms. If you have a flair for storytelling, a passion for running, and a knack for turning ideas into captivating words, join us in our mission to inspire and support runners worldwide. Responsibilities Content Creation: Write informative and engaging website articles, ensuring alignment with SEO best practices to enhance discoverability. Craft compelling scripts for video content, collaborating with the production team to bring ideas to life. Research And Topic Generation Stay informed about running trends, news, industry updates, and engaging topics to inform content creation. Conduct research to provide accurate and up-to-date information in all written materials, as well as provide key points of interest for selected subjects to form the basis of long-form articles or scripts. Newsletter Management Curate and write a regular email newsletter, making it as engaging and valuable as possible for our subscribers. Collaborate with the team to align newsletter content with broader content strategies. Social Media Copywriting Develop creative and impactful copy for social media platforms, maintaining consistency with our brand's voice. Collaborate with the team to create captivating captions and snippets for various social media posts. Collaboration Work closely with the production team to ensure written content aligns seamlessly with video and visual elements where required. Collaborate with other team members to brainstorm and refine ideas. Quality Assurance Ensure all written content meets high-quality standards, aligns with brand guidelines, and resonates with the target audience. Adaptability Adapt writing style to suit different channels and platforms, maintaining a consistent brand voice. Requirements: Passion for running and a solid understanding of the running community. Exceptional writing skills with a keen eye for detail. Proven experience in creating website articles, email newsletters, and social media copy. Understanding of SEO best practices. Ability to work collaboratively in a dynamic, fast-paced environment. Creative mindset and a passion for storytelling. ReCulture endeavour to be outstanding as a diverse and inclusive employer and are fully committed to present the best candidates for the role irrespective of background. We are keen to help our clients develop workforce representation from currently under-represented groups, including Black, Asian and Minority Ethnic (BAME) communities; Lesbian, Gay, Bi and Trans (LGBT) people and those living with physical, mental and/or sensory disability. Show more Show less\n",
            "\n",
            "Jaccard Distance: 0.5000\n",
            "\n",
            "---\n"
          ]
        }
      ],
      "source": [
        "for pair in similar_pairs[:2]:\n",
        "    doc1 = pair[0]\n",
        "    doc2 = pair[1]\n",
        "    dist = pair[2]\n",
        "\n",
        "    # Filter DataFrame to retrieve text for doc1 and doc2\n",
        "    doc1_text = df_scaled.filter(col('doc_id') == doc1).select('job_words').first()[0]\n",
        "    doc2_text = df_scaled.filter(col('doc_id') == doc2).select('job_words').first()[0]\n",
        "\n",
        "    # Job summaries for doc1 and doc2\n",
        "    print(\"Document 1:\")\n",
        "    print(doc1_text)\n",
        "    print(\"\\nDocument 2:\")\n",
        "    print(doc2_text)\n",
        "    print(\"\\nJaccard Distance: {:.4f}\".format(dist))\n",
        "    print(\"\\n---\")"
      ]
    }
  ],
  "metadata": {
    "colab": {
      "provenance": [],
      "authorship_tag": "ABX9TyNyMFpJlhAdMeQLxo0gppSb",
      "include_colab_link": true
    },
    "kernelspec": {
      "display_name": "Python 3",
      "name": "python3"
    },
    "language_info": {
      "name": "python"
    }
  },
  "nbformat": 4,
  "nbformat_minor": 0
}